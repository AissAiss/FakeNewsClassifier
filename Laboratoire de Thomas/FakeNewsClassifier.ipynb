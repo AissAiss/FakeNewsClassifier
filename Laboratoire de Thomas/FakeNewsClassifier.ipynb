{
 "cells": [
  {
   "cell_type": "markdown",
   "id": "09980994",
   "metadata": {
    "id": "09980994"
   },
   "source": [
    "# Fake News Classifer\n",
    "\n",
    "Projet de l'ue ML1 du groupe composé de : \n",
    "* Alexandre Cauty\n",
    "* Thomas Juliat\n",
    "* Loic Schnuriger\n",
    "* Lucas Aissaoui"
   ]
  },
  {
   "cell_type": "code",
   "execution_count": 78,
   "id": "64f17009",
   "metadata": {
    "colab": {
     "base_uri": "https://localhost:8080/"
    },
    "id": "64f17009",
    "outputId": "db68705e-f3cf-4d89-bd59-38ef093ad6ce"
   },
   "outputs": [
    {
     "name": "stderr",
     "output_type": "stream",
     "text": [
      "[nltk_data] Downloading package wordnet to\n",
      "[nltk_data]     /Users/juliatthomas/nltk_data...\n",
      "[nltk_data]   Package wordnet is already up-to-date!\n",
      "[nltk_data] Downloading package stopwords to\n",
      "[nltk_data]     /Users/juliatthomas/nltk_data...\n",
      "[nltk_data]   Package stopwords is already up-to-date!\n",
      "[nltk_data] Downloading package punkt to\n",
      "[nltk_data]     /Users/juliatthomas/nltk_data...\n",
      "[nltk_data]   Package punkt is already up-to-date!\n"
     ]
    }
   ],
   "source": [
    "import warnings\n",
    "warnings.filterwarnings(\"ignore\", category=FutureWarning)\n",
    "\n",
    "# librairies générales\n",
    "import pandas as pd\n",
    "import re\n",
    "from tabulate import tabulate\n",
    "import time\n",
    "import numpy as np\n",
    "import pickle\n",
    "import string\n",
    "import base64\n",
    "import sys\n",
    "\n",
    "# librairie affichage\n",
    "import matplotlib.pyplot as plt\n",
    "import seaborn as sns\n",
    "\n",
    "# librairies scikit learn\n",
    "import sklearn\n",
    "from sklearn.feature_extraction.text import CountVectorizer\n",
    "from sklearn.feature_extraction.text import TfidfVectorizer\n",
    "from sklearn.base import TransformerMixin\n",
    "from sklearn.pipeline import Pipeline\n",
    "from sklearn.model_selection import train_test_split\n",
    "from sklearn import metrics\n",
    "from sklearn.model_selection import cross_val_score\n",
    "from sklearn.metrics import confusion_matrix\n",
    "from sklearn.metrics import classification_report\n",
    "from sklearn.model_selection import KFold\n",
    "from sklearn.model_selection import GridSearchCV\n",
    "from sklearn.metrics import accuracy_score\n",
    "\n",
    "\n",
    "# librairies des classifiers utilisés\n",
    "from sklearn.svm import SVC\n",
    "from sklearn.linear_model import LogisticRegression\n",
    "from sklearn.tree import DecisionTreeClassifier\n",
    "from sklearn.neighbors import KNeighborsClassifier\n",
    "from sklearn.naive_bayes import MultinomialNB\n",
    "from sklearn.ensemble import RandomForestClassifier\n",
    "\n",
    "# librairies NLTK\n",
    "import nltk\n",
    "from nltk.stem import WordNetLemmatizer\n",
    "from nltk.stem import PorterStemmer \n",
    "from nltk.corpus import stopwords\n",
    "from nltk import word_tokenize \n",
    "\n",
    "\n",
    "\n",
    "nltk.download('wordnet')\n",
    "nltk.download('stopwords')\n",
    "nltk.download('punkt')\n",
    "stop_words = set(stopwords.words('english')) "
   ]
  },
  {
   "cell_type": "markdown",
   "source": [
    "# Connection à Google Drive"
   ],
   "metadata": {
    "id": "hGqUWu2h6vT8"
   },
   "id": "hGqUWu2h6vT8"
  },
  {
   "cell_type": "code",
   "execution_count": 78,
   "outputs": [],
   "source": [],
   "metadata": {
    "collapsed": false,
    "pycharm": {
     "name": "#%%\n"
    }
   }
  },
  {
   "cell_type": "code",
   "execution_count": 78,
   "outputs": [],
   "source": [],
   "metadata": {
    "collapsed": false,
    "pycharm": {
     "name": "#%%\n"
    }
   }
  },
  {
   "cell_type": "code",
   "source": [
    "from MyNLPUtilities import *"
   ],
   "metadata": {
    "id": "au-LkXpGqt5e",
    "colab": {
     "base_uri": "https://localhost:8080/",
     "height": 311
    },
    "outputId": "11d8d055-5ccf-4206-a05d-0ac1b077e7eb"
   },
   "id": "au-LkXpGqt5e",
   "execution_count": 79,
   "outputs": []
  },
  {
   "cell_type": "markdown",
   "source": [
    "# Importer les données"
   ],
   "metadata": {
    "id": "WK4h61Jt63Qp"
   },
   "id": "WK4h61Jt63Qp"
  },
  {
   "cell_type": "markdown",
   "source": [],
   "metadata": {
    "collapsed": false
   }
  },
  {
   "cell_type": "markdown",
   "source": [
    "Cette cellule contient permet d'importer les données depuis le fichier csv, on utilise \"news400rows.csv\" pour les test et \"news.csv\" contient l'intégralité des données"
   ],
   "metadata": {
    "id": "o1597HugTRCS"
   },
   "id": "o1597HugTRCS"
  },
  {
   "cell_type": "code",
   "source": [
    "news = pd.read_csv(\"news8904.csv\", sep=\",\")\n",
    "\n",
    "X = news.drop(['ratingName', 'Unnamed: 0', 'language', 'truthRating', 'id'], axis=1)\n",
    "\n",
    "display(X.head())\n",
    "\n",
    "Y = pd.DataFrame(news['ratingName'])\n",
    "# Conversion de True/False en 0/1\n",
    "Y = Y['ratingName'].astype(int)\n",
    "\n",
    "X = X.to_numpy()\n",
    "Y = Y.to_numpy()"
   ],
   "metadata": {
    "id": "gsjbqQU1TQ8e"
   },
   "id": "gsjbqQU1TQ8e",
   "execution_count": 80,
   "outputs": [
    {
     "data": {
      "text/plain": "                                                text        date  \\\n0  'Liberals' want to change the name of Cracker ...     Unknown   \n1  U.S. President Donald Trump laughed during a r...     Unknown   \n2  'Californians are overwhelmingly against this ...  2018-02-01   \n3  'At least Obama didn't marry his cousin,' as G...  2007-07-19   \n4  Says 'Obama paid FBI informant over $1 million...  2018-05-22   \n\n         author                                           headline  \\\n0       Unknown  Liberals Want to Change the Name of ‘Cracker B...   \n1       Unknown  Did Trump Laugh When Audience Member at Rally ...   \n2  Travis Allen  Travis Allen gets it wrong, again, on support ...   \n3    Obama Girl        Giuliani's first wife was his second cousin   \n4      Bloggers  Online story gets details wrong about informan...   \n\n                                named_entities_claim named_entities_article  \\\n0  Change.org,Charleston, South Carolina,Cracker ...                    NaN   \n1  Donald Trump,El Paso, Texas,Hispanic,Latino,Pa...           Donald Trump   \n2  Capital Public Radio,Fox News,Los Angeles Time...                    NaN   \n3  Amber Lee Ettinger,Barack Obama,Barelypolitica...                    NaN   \n4  Carter Page,Donald Trump,FBI,Facebook,George P...                    FBI   \n\n                                            keywords      source  \\\n0  caucasian barrel, change.org, cracker barrel, ...      snopes   \n1                                                NaN      snopes   \n2  Crime,Criminal Justice,Immigration,Polls and P...  politifact   \n3                                Candidate Biography  politifact   \n4                                Elections,Fake news  politifact   \n\n                   sourceURL  \\\n0      http://www.snopes.com   \n1      http://www.snopes.com   \n2  http://www.politifact.com   \n3  http://www.politifact.com   \n4  http://www.politifact.com   \n\n                                                link  \n0  https://www.snopes.com/fact-check/caucasian-ba...  \n1  https://www.snopes.com/fact-check/trump-laugh-...  \n2  http://www.politifact.com/california/statement...  \n3  http://www.politifact.com/truth-o-meter/statem...  \n4  http://www.politifact.com/punditfact/statement...  ",
      "text/html": "<div>\n<style scoped>\n    .dataframe tbody tr th:only-of-type {\n        vertical-align: middle;\n    }\n\n    .dataframe tbody tr th {\n        vertical-align: top;\n    }\n\n    .dataframe thead th {\n        text-align: right;\n    }\n</style>\n<table border=\"1\" class=\"dataframe\">\n  <thead>\n    <tr style=\"text-align: right;\">\n      <th></th>\n      <th>text</th>\n      <th>date</th>\n      <th>author</th>\n      <th>headline</th>\n      <th>named_entities_claim</th>\n      <th>named_entities_article</th>\n      <th>keywords</th>\n      <th>source</th>\n      <th>sourceURL</th>\n      <th>link</th>\n    </tr>\n  </thead>\n  <tbody>\n    <tr>\n      <th>0</th>\n      <td>'Liberals' want to change the name of Cracker ...</td>\n      <td>Unknown</td>\n      <td>Unknown</td>\n      <td>Liberals Want to Change the Name of ‘Cracker B...</td>\n      <td>Change.org,Charleston, South Carolina,Cracker ...</td>\n      <td>NaN</td>\n      <td>caucasian barrel, change.org, cracker barrel, ...</td>\n      <td>snopes</td>\n      <td>http://www.snopes.com</td>\n      <td>https://www.snopes.com/fact-check/caucasian-ba...</td>\n    </tr>\n    <tr>\n      <th>1</th>\n      <td>U.S. President Donald Trump laughed during a r...</td>\n      <td>Unknown</td>\n      <td>Unknown</td>\n      <td>Did Trump Laugh When Audience Member at Rally ...</td>\n      <td>Donald Trump,El Paso, Texas,Hispanic,Latino,Pa...</td>\n      <td>Donald Trump</td>\n      <td>NaN</td>\n      <td>snopes</td>\n      <td>http://www.snopes.com</td>\n      <td>https://www.snopes.com/fact-check/trump-laugh-...</td>\n    </tr>\n    <tr>\n      <th>2</th>\n      <td>'Californians are overwhelmingly against this ...</td>\n      <td>2018-02-01</td>\n      <td>Travis Allen</td>\n      <td>Travis Allen gets it wrong, again, on support ...</td>\n      <td>Capital Public Radio,Fox News,Los Angeles Time...</td>\n      <td>NaN</td>\n      <td>Crime,Criminal Justice,Immigration,Polls and P...</td>\n      <td>politifact</td>\n      <td>http://www.politifact.com</td>\n      <td>http://www.politifact.com/california/statement...</td>\n    </tr>\n    <tr>\n      <th>3</th>\n      <td>'At least Obama didn't marry his cousin,' as G...</td>\n      <td>2007-07-19</td>\n      <td>Obama Girl</td>\n      <td>Giuliani's first wife was his second cousin</td>\n      <td>Amber Lee Ettinger,Barack Obama,Barelypolitica...</td>\n      <td>NaN</td>\n      <td>Candidate Biography</td>\n      <td>politifact</td>\n      <td>http://www.politifact.com</td>\n      <td>http://www.politifact.com/truth-o-meter/statem...</td>\n    </tr>\n    <tr>\n      <th>4</th>\n      <td>Says 'Obama paid FBI informant over $1 million...</td>\n      <td>2018-05-22</td>\n      <td>Bloggers</td>\n      <td>Online story gets details wrong about informan...</td>\n      <td>Carter Page,Donald Trump,FBI,Facebook,George P...</td>\n      <td>FBI</td>\n      <td>Elections,Fake news</td>\n      <td>politifact</td>\n      <td>http://www.politifact.com</td>\n      <td>http://www.politifact.com/punditfact/statement...</td>\n    </tr>\n  </tbody>\n</table>\n</div>"
     },
     "metadata": {},
     "output_type": "display_data"
    }
   ]
  },
  {
   "cell_type": "markdown",
   "source": [],
   "metadata": {
    "id": "UMrh8-9pVTBW"
   },
   "id": "UMrh8-9pVTBW"
  },
  {
   "cell_type": "code",
   "execution_count": 81,
   "id": "2c246552",
   "metadata": {
    "colab": {
     "base_uri": "https://localhost:8080/"
    },
    "id": "2c246552",
    "outputId": "a2d4a489-9872-44a0-bf82-070601d0a031"
   },
   "outputs": [
    {
     "name": "stderr",
     "output_type": "stream",
     "text": [
      "[nltk_data] Downloading package wordnet to\n",
      "[nltk_data]     /Users/juliatthomas/nltk_data...\n",
      "[nltk_data]   Package wordnet is already up-to-date!\n",
      "[nltk_data] Downloading package stopwords to\n",
      "[nltk_data]     /Users/juliatthomas/nltk_data...\n",
      "[nltk_data]   Package stopwords is already up-to-date!\n",
      "[nltk_data] Downloading package punkt to\n",
      "[nltk_data]     /Users/juliatthomas/nltk_data...\n",
      "[nltk_data]   Package punkt is already up-to-date!\n"
     ]
    }
   ],
   "source": [
    "import re\n",
    "import string\n",
    "\n",
    "import nltk\n",
    "from nltk.stem import WordNetLemmatizer\n",
    "from nltk.stem import PorterStemmer \n",
    "from nltk.corpus import stopwords\n",
    "from nltk import word_tokenize\n",
    "\n",
    "nltk.download('wordnet')\n",
    "nltk.download('stopwords')\n",
    "nltk.download('punkt')\n",
    "stop_words = set(stopwords.words('english')) \n",
    "\n",
    "def MyCleanText(X, \n",
    "               lowercase=False, # mettre en minuscule\n",
    "               removestopwords=False, # supprimer les stopwords\n",
    "               removedigit=False, # supprimer les nombres  \n",
    "               getstemmer=False, # conserver la racine des termes\n",
    "               getlemmatisation=False # lematisation des termes \n",
    "              ):\n",
    "\n",
    "    sentence=str(X)\n",
    "\n",
    "    # suppression des caractères spéciaux\n",
    "    sentence = re.sub(r'[^\\w\\s]',' ', sentence)\n",
    "    # suppression de tous les caractères uniques\n",
    "    sentence = re.sub(r'\\s+[a-zA-Z]\\s+', ' ', sentence)\n",
    "    # substitution des espaces multiples par un seul espace\n",
    "    sentence = re.sub(r'\\s+', ' ', sentence, flags=re.I)\n",
    "\n",
    "    sentence = str(sentence).lower()\n",
    "    sentence = re.sub('\\[.*?\\]', '', sentence)\n",
    "    sentence = re.sub('https?://\\S+|www\\.\\S+', '', sentence)\n",
    "    sentence = re.sub('<.*?>+', '', sentence)\n",
    "    sentence = re.sub('[%s]' % re.escape(string.punctuation), '', sentence)\n",
    "    sentence = re.sub('\\n', '', sentence)\n",
    "    sentence = re.sub('\\w*\\d\\w*', '', sentence)\n",
    "\n",
    "    # decoupage en mots\n",
    "    tokens = word_tokenize(sentence)\n",
    "    if lowercase:\n",
    "          tokens = [token.lower() for token in tokens]\n",
    "\n",
    "    # suppression ponctuation\n",
    "    table = str.maketrans('', '', string.punctuation)\n",
    "    words = [token.translate(table) for token in tokens]\n",
    "\n",
    "    # suppression des tokens non alphabetique ou numerique\n",
    "    words = [word for word in words if word.isalnum()]\n",
    "\n",
    "    # suppression des tokens numerique\n",
    "    if removedigit:\n",
    "        words = [word for word in words if not word.isdigit()]\n",
    "\n",
    "    # suppression des stopwords\n",
    "    if removestopwords:\n",
    "        words = [word for word in words if not word in stop_words]\n",
    "\n",
    "    # lemmatisation\n",
    "    if getlemmatisation:\n",
    "        lemmatizer=WordNetLemmatizer()\n",
    "        words = [lemmatizer.lemmatize(word)for word in words]\n",
    "\n",
    "    # racinisation\n",
    "    if getstemmer:\n",
    "        ps = PorterStemmer()\n",
    "        words=[ps.stem(word) for word in words]\n",
    "\n",
    "    sentence= ' '.join(words)\n",
    "    #print(sentence)\n",
    "  \n",
    "    return sentence"
   ]
  },
  {
   "cell_type": "markdown",
   "source": [
    "# Normaliseur de text"
   ],
   "metadata": {
    "id": "rsFcG9hgVZTY"
   },
   "id": "rsFcG9hgVZTY"
  },
  {
   "cell_type": "code",
   "execution_count": 82,
   "id": "bf8253f1",
   "metadata": {
    "id": "bf8253f1"
   },
   "outputs": [],
   "source": [
    "from sklearn.base import BaseEstimator, TransformerMixin\n",
    "\n",
    "class TextNormalizer(BaseEstimator, TransformerMixin):\n",
    "    def __init__(self, \n",
    "                 removestopwords=False, # suppression des stopwords\n",
    "                 lowercase=False,# passage en minuscule\n",
    "                 removedigit=False, # supprimer les nombres  \n",
    "                 getstemmer=False,# racinisation des termes \n",
    "                 getlemmatisation=False # lemmatisation des termes  \n",
    "                ):\n",
    "        \n",
    "        self.lowercase=lowercase\n",
    "        self.getstemmer=getstemmer\n",
    "        self.removestopwords=removestopwords\n",
    "        self.getlemmatisation=getlemmatisation\n",
    "        self.removedigit=removedigit\n",
    "\n",
    "    def transform(self, X, **transform_params):\n",
    "        # Nettoyage du texte\n",
    "        X=X.copy() # pour conserver le fichier d'origine\n",
    "\n",
    "        return [MyCleanText(text,lowercase=self.lowercase,\n",
    "                            getstemmer=self.getstemmer,\n",
    "                            removestopwords=self.removestopwords,\n",
    "                            getlemmatisation=self.getlemmatisation,\n",
    "                            removedigit=self.removedigit) for text in X]\n",
    "\n",
    "    def fit(self, X, y=None, **fit_params):\n",
    "        return self\n",
    "    \n",
    "    def fit_transform(self, X, y=None, **fit_params):\n",
    "        return self.fit(X).transform(X)\n",
    "\n",
    "    def get_params(self, deep=True):\n",
    "        return {\n",
    "            'removestopwords':self.removestopwords,\n",
    "            'lowercase':self.lowercase,\n",
    "            'removedigit':self.removedigit,\n",
    "            'getstemmer':self.getstemmer,\n",
    "            'getlemmatisation':self.getlemmatisation\n",
    "        }\n",
    "    \n",
    "    def set_params (self, **parameters):\n",
    "        for parameter, value in parameters.items():\n",
    "            setattr(self,parameter,value)\n",
    "        return self"
   ]
  },
  {
   "cell_type": "code",
   "source": [
    "from sklearn import model_selection\n",
    "from sklearn.dummy import DummyClassifier\n",
    "from sklearn.linear_model import LogisticRegression\n",
    "from sklearn.tree import DecisionTreeClassifier\n",
    "from sklearn.neighbors import KNeighborsClassifier\n",
    "from sklearn.svm import SVC\n",
    "from sklearn.ensemble import RandomForestClassifier\n",
    "import xgboost\n",
    "from sklearn.model_selection import KFold\n",
    "from sklearn.model_selection import cross_val_score"
   ],
   "metadata": {
    "id": "q48dVwtvKovt"
   },
   "id": "q48dVwtvKovt",
   "execution_count": 83,
   "outputs": []
  },
  {
   "cell_type": "markdown",
   "source": [
    "# TEST DES HYPERPARAMETRE"
   ],
   "metadata": {
    "collapsed": false
   }
  },
  {
   "cell_type": "code",
   "execution_count": 84,
   "outputs": [
    {
     "name": "stdout",
     "output_type": "stream",
     "text": [
      "Application de gridsearch ...\n",
      "pipeline : ['cleaner', 'count_vectorizer', 'classifier']\n",
      "parameters :\n",
      "{'classifier__min_samples_split': [2, 3, 4, 5], 'classifier__max_features': ['auto', 'sqrt', 'log2'], 'classifier__oob_score': [True, False], 'classifier__n_jobs': [1, 4, -1], 'classifier__warm_start': [True, False]}\n",
      "Fitting 5 folds for each of 144 candidates, totalling 720 fits\n",
      "réalisé en  4518.982 s\n",
      "Meilleur résultat : 0.712\n",
      "Accuracy : 0.715\n",
      "Classification Report\n",
      "              precision    recall  f1-score   support\n",
      "\n",
      "           0    0.72464   0.68182   0.70258       440\n",
      "           1    0.70650   0.74723   0.72629       451\n",
      "\n",
      "    accuracy                        0.71493       891\n",
      "   macro avg    0.71557   0.71452   0.71443       891\n",
      "weighted avg    0.71546   0.71493   0.71458       891\n",
      "\n"
     ]
    },
    {
     "data": {
      "text/plain": "<Figure size 576x360 with 2 Axes>",
      "image/png": "[encoded data removed]"
     },
     "metadata": {},
     "output_type": "display_data"
    },
    {
     "name": "stdout",
     "output_type": "stream",
     "text": [
      "Ensemble des meilleurs paramètres :\n",
      "\tclassifier__max_features: 'sqrt'\n",
      "\tclassifier__min_samples_split: 4\n",
      "\tclassifier__n_jobs: 1\n",
      "\tclassifier__oob_score: False\n",
      "\tclassifier__warm_start: True\n",
      "\n",
      "Les premiers résultats : \n",
      "    classifier__max_features  classifier__min_samples_split  \\\n",
      "74                     sqrt                              4   \n",
      "44                     auto                              5   \n",
      "18                     auto                              3   \n",
      "91                     sqrt                              5   \n",
      "54                     sqrt                              2   \n",
      "\n",
      "    classifier__n_jobs  classifier__oob_score  classifier__warm_start  \\\n",
      "74                   1                  False                    True   \n",
      "44                  -1                   True                    True   \n",
      "18                   4                  False                    True   \n",
      "91                   4                  False                   False   \n",
      "54                   4                  False                    True   \n",
      "\n",
      "    accuracy  \n",
      "74  0.712467  \n",
      "44  0.712341  \n",
      "18  0.711967  \n",
      "91  0.711844  \n",
      "54  0.711592  \n"
     ]
    }
   ],
   "source": [
    "\n",
    "X_train, X_test, y_train, y_test = train_test_split(X, Y, test_size=0.1)\n",
    "\n",
    "\n",
    "pipeline = Pipeline([(\"cleaner\", TextNormalizer(True,True,False,True,True)), (\"count_vectorizer\", CountVectorizer()),\n",
    "                     (\"classifier\",RandomForestClassifier(criterion=\"entropy\", n_estimators=100))])\n",
    "\n",
    "# creation des différents paramètres à tester pour SVM\n",
    "# Attention dans le pipeline le nom pour le classifier SVM est : svm même si l'algorithme s'appelle SVC\n",
    "# pour le référencer il faut utiliser le nom utilisé, i.e. svm, puis deux caractères soulignés\n",
    "# et enfin le nom du paramètre\n",
    "parameters = {\n",
    "    'classifier__min_samples_split': [2,3,4,5],\n",
    "    'classifier__max_features' : ['auto', 'sqrt', 'log2'],\n",
    "    'classifier__oob_score' : [True, False],\n",
    "    'classifier__n_jobs' : [1,4,-1],\n",
    "    'classifier__warm_start' : [True, False]\n",
    "}\n",
    "\n",
    "\n",
    "score='accuracy'\n",
    "\n",
    "# Application de gridsearchcv, n_jobs=-1 permet de pouvoir utiliser plusieurs CPU s'ils sont disponibles\n",
    "grid_search = GridSearchCV(pipeline, parameters, n_jobs=-1, verbose=1,scoring=score)\n",
    "\n",
    "print(\"Application de gridsearch ...\")\n",
    "print(\"pipeline :\", [name for name, _ in pipeline.steps])\n",
    "print(\"parameters :\")\n",
    "print(parameters)\n",
    "start_time = time.time()\n",
    "grid_search.fit(X_train, y_train)\n",
    "print(\"réalisé en  %0.3f s\" % (time.time() - start_time))\n",
    "print(\"Meilleur résultat : %0.3f\" % grid_search.best_score_)\n",
    "\n",
    "# autres mesures et matrice de confusion\n",
    "y_pred = grid_search.predict(X_test)\n",
    "MyshowAllScores(y_test,y_pred)\n",
    "\n",
    "\n",
    "print(\"Ensemble des meilleurs paramètres :\")\n",
    "best_parameters = grid_search.best_estimator_.get_params()\n",
    "for param_name in sorted(parameters.keys()):\n",
    "    print(\"\\t%s: %r\" % (param_name, best_parameters[param_name]))\n",
    "\n",
    "# Affichage des premiers résultats du gridsearch\n",
    "df_results=pd.concat([pd.DataFrame(grid_search.cv_results_[\"params\"]),\n",
    "                      pd.DataFrame(grid_search.cv_results_[\"mean_test_score\"],\n",
    "                                   columns=[score])],axis=1).sort_values(score,ascending=False)\n",
    "print (\"\\nLes premiers résultats : \\n\",df_results.head())\n",
    "\n",
    "\n"
   ],
   "metadata": {
    "collapsed": false,
    "pycharm": {
     "name": "#%%\n"
    }
   }
  },
  {
   "cell_type": "markdown",
   "source": [
    "# LE TEST"
   ],
   "metadata": {
    "collapsed": false
   }
  },
  {
   "cell_type": "code",
   "execution_count": 85,
   "outputs": [
    {
     "name": "stdout",
     "output_type": "stream",
     "text": [
      "Les différentes accuracy pour les 10 évaluations sont : \n",
      " [0.7037037  0.71268238 0.70145903 0.6969697  0.71011236 0.69550562\n",
      " 0.69325843 0.69662921 0.69775281 0.71123596] \n",
      "\n",
      "Accuracy moyenne : 0.702  standard deviation 0.007\n"
     ]
    }
   ],
   "source": [
    "pipeOpti = Pipeline([(\"cleaner\", TextNormalizer(True,True,False,True,True)), (\"count_vectorizer\", CountVectorizer()),\n",
    "                     (\"classifier\",RandomForestClassifier(criterion=\"entropy\",\n",
    "                                                          max_features=\"log2\",\n",
    "                                                          min_samples_split=4,\n",
    "                                                          n_jobs=1,\n",
    "                                                          oob_score=False,\n",
    "                                                          warm_start=False))])\n",
    "\n",
    "seed=7\n",
    "k_fold = KFold(n_splits=10, shuffle=True, random_state=seed)\n",
    "scoring = 'accuracy'\n",
    "score = cross_val_score(pipeOpti, X, Y, cv=k_fold, scoring=scoring)\n",
    "\n",
    "print('Les différentes accuracy pour les 10 évaluations sont : \\n',\n",
    "      score,'\\n')\n",
    "print ('Accuracy moyenne : %0.3f'%(score.mean()),\n",
    "       ' standard deviation %0.3f'%(score.std()))\n",
    "\n"
   ],
   "metadata": {
    "collapsed": false,
    "pycharm": {
     "name": "#%%\n"
    }
   }
  },
  {
   "cell_type": "code",
   "execution_count": 85,
   "outputs": [],
   "source": [],
   "metadata": {
    "collapsed": false,
    "pycharm": {
     "name": "#%%\n"
    }
   }
  },
  {
   "cell_type": "markdown",
   "source": [
    "# Visualisation de données"
   ],
   "metadata": {
    "id": "r3_d07wFsZtY"
   },
   "id": "r3_d07wFsZtY"
  },
  {
   "cell_type": "code",
   "execution_count": 86,
   "outputs": [
    {
     "name": "stdout",
     "output_type": "stream",
     "text": [
      "\u001B[33mDEPRECATION: Configuring installation scheme with distutils config files is deprecated and will no longer work in the near future. If you are using a Homebrew or Linuxbrew Python, please see discussion at https://github.com/Homebrew/homebrew-core/issues/76621\u001B[0m\u001B[33m\r\n",
      "\u001B[0mRequirement already satisfied: plotly in /usr/local/lib/python3.9/site-packages (5.6.0)\r\n",
      "Requirement already satisfied: tenacity>=6.2.0 in /usr/local/lib/python3.9/site-packages (from plotly) (8.0.1)\r\n",
      "Requirement already satisfied: six in /usr/local/lib/python3.9/site-packages (from plotly) (1.16.0)\r\n",
      "\u001B[33mDEPRECATION: Configuring installation scheme with distutils config files is deprecated and will no longer work in the near future. If you are using a Homebrew or Linuxbrew Python, please see discussion at https://github.com/Homebrew/homebrew-core/issues/76621\u001B[0m\u001B[33m\r\n",
      "\u001B[0m"
     ]
    }
   ],
   "source": [
    "!pip3 install plotly"
   ],
   "metadata": {
    "collapsed": false,
    "pycharm": {
     "name": "#%%\n"
    }
   }
  },
  {
   "cell_type": "code",
   "source": [
    "from sklearn.decomposition import PCA\n",
    "import plotly.express as px"
   ],
   "metadata": {
    "id": "leCfBHyksiAk"
   },
   "id": "leCfBHyksiAk",
   "execution_count": 87,
   "outputs": []
  },
  {
   "cell_type": "code",
   "execution_count": 87,
   "outputs": [],
   "source": [],
   "metadata": {
    "collapsed": false,
    "pycharm": {
     "name": "#%%\n"
    }
   }
  },
  {
   "cell_type": "code",
   "source": [
    "news = pd.read_csv(\"news400rows.csv\", sep=\",\")\n",
    "\n",
    "X = news.drop(['ratingName'], axis=1)\n",
    "Y = pd.DataFrame(news['ratingName'])\n",
    "\n",
    "# Conversion de True/False en 0/1\n",
    "Y = Y['ratingName'].astype(int)"
   ],
   "metadata": {
    "colab": {
     "base_uri": "https://localhost:8080/",
     "height": 165
    },
    "id": "v5XQgujFs9vo",
    "outputId": "b8cc7cbf-d4b8-463c-edba-07a9c90734b9"
   },
   "id": "v5XQgujFs9vo",
   "execution_count": 88,
   "outputs": []
  },
  {
   "cell_type": "code",
   "execution_count": 89,
   "outputs": [
    {
     "name": "stdout",
     "output_type": "stream",
     "text": [
      "Application de TfidfVectorizer :\n"
     ]
    }
   ],
   "source": [
    "texte = news['text']\n",
    "\n",
    "print (\"Application de TfidfVectorizer :\")\n",
    "vectorizer = TfidfVectorizer()\n",
    "# fit et transform en une opération\n",
    "X = vectorizer.fit_transform(texte)\n",
    "\n",
    "# creation du dataframe pour affichage\n",
    "df = pd.DataFrame(\n",
    "    data=vectorizer.transform(texte).toarray(),\n",
    "    columns=vectorizer.get_feature_names()\n",
    ")\n",
    "\n",
    "#display(df)\n",
    "X = df\n",
    "\n"
   ],
   "metadata": {
    "collapsed": false,
    "pycharm": {
     "name": "#%%\n"
    }
   }
  },
  {
   "cell_type": "code",
   "execution_count": 90,
   "outputs": [
    {
     "name": "stdout",
     "output_type": "stream",
     "text": [
      "\u001B[33mDEPRECATION: Configuring installation scheme with distutils config files is deprecated and will no longer work in the near future. If you are using a Homebrew or Linuxbrew Python, please see discussion at https://github.com/Homebrew/homebrew-core/issues/76621\u001B[0m\u001B[33m\r\n",
      "\u001B[0mRequirement already satisfied: umap-learn in /usr/local/lib/python3.9/site-packages (0.5.2)\r\n",
      "Requirement already satisfied: numba>=0.49 in /usr/local/lib/python3.9/site-packages (from umap-learn) (0.54.0)\r\n",
      "Requirement already satisfied: scikit-learn>=0.22 in /usr/local/lib/python3.9/site-packages (from umap-learn) (1.0.2)\r\n",
      "Requirement already satisfied: tqdm in /usr/local/lib/python3.9/site-packages (from umap-learn) (4.63.0)\r\n",
      "Requirement already satisfied: scipy>=1.0 in /usr/local/lib/python3.9/site-packages (from umap-learn) (1.8.0)\r\n",
      "Requirement already satisfied: numpy>=1.17 in /usr/local/lib/python3.9/site-packages (from umap-learn) (1.20.3)\r\n",
      "Requirement already satisfied: pynndescent>=0.5 in /usr/local/lib/python3.9/site-packages (from umap-learn) (0.5.6)\r\n",
      "Requirement already satisfied: setuptools in /usr/local/lib/python3.9/site-packages (from numba>=0.49->umap-learn) (60.5.0)\r\n",
      "Requirement already satisfied: llvmlite<0.38,>=0.37.0rc1 in /usr/local/lib/python3.9/site-packages (from numba>=0.49->umap-learn) (0.37.0)\r\n",
      "Requirement already satisfied: joblib>=0.11 in /usr/local/lib/python3.9/site-packages (from pynndescent>=0.5->umap-learn) (1.1.0)\r\n",
      "Requirement already satisfied: threadpoolctl>=2.0.0 in /usr/local/lib/python3.9/site-packages (from scikit-learn>=0.22->umap-learn) (3.1.0)\r\n",
      "\u001B[33mDEPRECATION: Configuring installation scheme with distutils config files is deprecated and will no longer work in the near future. If you are using a Homebrew or Linuxbrew Python, please see discussion at https://github.com/Homebrew/homebrew-core/issues/76621\u001B[0m\u001B[33m\r\n",
      "\u001B[0m"
     ]
    }
   ],
   "source": [
    "!pip3 install umap-learn\n"
   ],
   "metadata": {
    "collapsed": false,
    "pycharm": {
     "name": "#%%\n"
    }
   }
  },
  {
   "cell_type": "code",
   "execution_count": 91,
   "outputs": [
    {
     "name": "stdout",
     "output_type": "stream",
     "text": [
      "\u001B[33mDEPRECATION: Configuring installation scheme with distutils config files is deprecated and will no longer work in the near future. If you are using a Homebrew or Linuxbrew Python, please see discussion at https://github.com/Homebrew/homebrew-core/issues/76621\u001B[0m\u001B[33m\r\n",
      "\u001B[0mRequirement already satisfied: numba==0.54 in /usr/local/lib/python3.9/site-packages (0.54.0)\r\n",
      "Requirement already satisfied: setuptools in /usr/local/lib/python3.9/site-packages (from numba==0.54) (60.5.0)\r\n",
      "Requirement already satisfied: numpy<1.21,>=1.17 in /usr/local/lib/python3.9/site-packages (from numba==0.54) (1.20.3)\r\n",
      "Requirement already satisfied: llvmlite<0.38,>=0.37.0rc1 in /usr/local/lib/python3.9/site-packages (from numba==0.54) (0.37.0)\r\n",
      "\u001B[33mDEPRECATION: Configuring installation scheme with distutils config files is deprecated and will no longer work in the near future. If you are using a Homebrew or Linuxbrew Python, please see discussion at https://github.com/Homebrew/homebrew-core/issues/76621\u001B[0m\u001B[33m\r\n",
      "\u001B[0m"
     ]
    }
   ],
   "source": [
    "!pip3 install numba==0.54\n"
   ],
   "metadata": {
    "collapsed": false,
    "pycharm": {
     "name": "#%%\n"
    }
   }
  },
  {
   "cell_type": "code",
   "execution_count": 92,
   "outputs": [],
   "source": [
    "from sklearn.manifold import TSNE\n",
    "import numpy as np\n",
    "from sklearn.datasets import load_digits\n",
    "from sklearn.model_selection import train_test_split\n",
    "from sklearn.preprocessing import StandardScaler\n",
    "import matplotlib.pyplot as plt\n",
    "import seaborn as sns\n",
    "import pandas as pd\n",
    "\n",
    "\n",
    "\n",
    "import umap\n",
    "\n"
   ],
   "metadata": {
    "collapsed": false,
    "pycharm": {
     "name": "#%%\n"
    }
   }
  },
  {
   "cell_type": "code",
   "execution_count": 93,
   "outputs": [
    {
     "data": {
      "application/vnd.plotly.v1+json": {
       "data": [
        {
         "hovertemplate": "0=%{x}<br>1=%{y}<br>color=%{marker.color}<extra></extra>",
         "legendgroup": "",
         "marker": {
          "color": [
           0,
           1,
           0,
           0,
           0,
           1,
           1,
           0,
           0,
           0,
           0,
           1,
           0,
           1,
           1,
           1,
           0,
           1,
           0,
           0,
           1,
           0,
           1,
           1,
           0,
           1,
           1,
           1,
           0,
           0,
           1,
           1,
           0,
           1,
           0,
           1,
           0,
           1,
           1,
           0,
           1,
           0,
           0,
           0,
           0,
           1,
           0,
           0,
           1,
           0,
           1,
           1,
           1,
           1,
           0,
           1,
           1,
           1,
           0,
           1,
           1,
           0,
           0,
           1,
           0,
           1,
           0,
           1,
           0,
           0,
           0,
           0,
           1,
           0,
           1,
           0,
           1,
           1,
           0,
           1,
           0,
           0,
           1,
           1,
           0,
           0,
           1,
           0,
           0,
           0,
           0,
           0,
           1,
           1,
           0,
           0,
           1,
           0,
           0,
           1,
           0,
           1,
           1,
           0,
           1,
           0,
           0,
           1,
           0,
           0,
           0,
           1,
           0,
           0,
           0,
           0,
           1,
           1,
           1,
           1,
           1,
           0,
           1,
           0,
           1,
           1,
           0,
           0,
           1,
           0,
           0,
           0,
           1,
           0,
           0,
           1,
           0,
           0,
           0,
           1,
           0,
           0,
           1,
           1,
           0,
           0,
           1,
           0,
           0,
           1,
           1,
           1,
           0,
           1,
           1,
           0,
           0,
           0,
           1,
           1,
           1,
           0,
           0,
           1,
           1,
           0,
           0,
           1,
           1,
           1,
           0,
           0,
           0,
           0,
           1,
           0,
           1,
           1,
           1,
           1,
           0,
           1,
           0,
           1,
           1,
           0,
           1,
           1,
           0,
           1,
           0,
           0,
           0,
           1,
           0,
           1,
           0,
           0,
           0,
           0,
           1,
           1,
           1,
           0,
           0,
           0,
           0,
           1,
           1,
           0,
           0,
           1,
           1,
           0,
           0,
           0,
           1,
           0,
           1,
           0,
           1,
           1,
           0,
           1,
           0,
           1,
           1,
           1,
           0,
           0,
           1,
           1,
           1,
           1,
           1,
           1,
           1,
           1,
           1,
           0,
           0,
           1,
           0,
           1,
           1,
           0,
           0,
           1,
           1,
           0,
           1,
           0,
           0,
           1,
           1,
           0,
           1,
           1,
           1,
           1,
           0,
           1,
           1,
           0,
           1,
           0,
           1,
           1,
           1,
           1,
           0,
           0,
           1,
           0,
           1,
           0,
           1,
           0,
           0,
           1,
           1,
           1,
           1,
           0,
           0,
           0,
           1,
           1,
           0,
           1,
           1,
           0,
           1,
           0,
           0,
           0,
           1,
           1,
           0,
           0,
           0,
           1,
           1,
           1,
           0,
           0,
           1,
           1,
           0,
           1,
           1,
           0,
           0,
           0,
           1,
           1,
           0,
           1,
           1,
           0,
           1,
           1,
           1,
           1,
           0,
           0,
           1,
           0,
           0,
           1,
           0,
           0,
           1,
           1,
           0,
           0,
           0,
           1,
           0,
           0,
           1,
           1,
           1,
           1,
           0,
           1,
           1,
           1,
           0,
           0,
           0,
           0,
           0,
           0,
           1,
           0,
           0,
           1,
           1,
           0,
           1,
           1,
           1,
           1,
           1,
           0,
           1,
           0,
           0,
           1,
           1,
           0,
           1,
           0,
           1,
           1,
           1,
           1,
           1,
           1,
           0,
           0,
           0,
           0,
           0,
           0,
           1,
           0,
           0,
           1,
           0,
           0,
           0,
           1,
           0,
           0,
           1,
           0,
           0,
           1
          ],
          "coloraxis": "coloraxis",
          "symbol": "circle"
         },
         "mode": "markers",
         "name": "",
         "orientation": "v",
         "showlegend": false,
         "x": [
          0.10528074710494612,
          0.016061174537982264,
          -0.08656949715636049,
          -0.002954353660506205,
          6.307167493270751E-5,
          0.02372603597334167,
          -0.023128545850910762,
          -0.03226940051283008,
          0.24049958571613123,
          -0.23398946084707714,
          -0.17069705340189087,
          -0.03347159581416819,
          -0.010297313021604781,
          0.010745371001004062,
          0.10536388468610333,
          -0.09413554532449375,
          -0.019100636611180843,
          -0.07249973913494923,
          0.008735539185813579,
          -0.1902209401682345,
          -0.20989830163964351,
          0.09795281350120671,
          -0.0874013844544382,
          0.024150393653316997,
          0.1361339999058673,
          -0.07401594293939083,
          0.00986710839343206,
          -0.13101436425519666,
          0.13331392482815652,
          -0.022270206169291082,
          -0.018550967489270744,
          -0.09031391513940813,
          -0.08582827257714733,
          -0.018893348299746662,
          -0.07754225011104394,
          -0.09742945634011022,
          0.10834191039880343,
          0.007664485397796032,
          -0.044344227301985034,
          0.24136353662007987,
          -0.04878985578397822,
          0.1779188683558328,
          0.1066508756297251,
          -0.07661660934662981,
          -0.029949343567162647,
          0.1245717173951805,
          -0.07793538680080454,
          0.24407007228172511,
          -0.011800289826071573,
          0.03377320242444628,
          0.07889152629798486,
          -0.11085897929517029,
          -0.06272462826011187,
          -0.17705329437762246,
          -0.02428660289638109,
          -0.024237473192434432,
          -0.09349262417387122,
          -0.0010127577444204586,
          0.08114099146233972,
          0.020614683928764633,
          -0.0772405287756523,
          -0.05920247137014917,
          -0.0025336771169812266,
          -0.04980271008387041,
          -0.1412374620975021,
          -0.007390104796119493,
          0.06618023720404095,
          0.21107422691977112,
          0.04174166536196344,
          0.009335247856631385,
          0.00952534562383955,
          0.005238564184106226,
          -0.034841235559445155,
          -0.026728899655466588,
          0.08329862465382111,
          -0.26309294406196343,
          -0.015199072154907352,
          -0.04569830236097221,
          0.06140450334832375,
          -0.053206275685535445,
          -0.10792403964280294,
          -0.10173798110366644,
          -0.035805508499588835,
          -0.06255860291039139,
          0.06485856647670388,
          0.03475391785584852,
          0.034770290604628634,
          0.08142688990513366,
          -0.04020618487478036,
          0.05917872358707698,
          0.035215982237987935,
          -0.07101913693681555,
          -0.06370057445466086,
          0.042428719801739415,
          -0.10137411430022623,
          -1.9286166086819134E-4,
          0.108862891281301,
          0.021750909358412375,
          0.0031279735977301866,
          -0.06720130477634771,
          -0.10078324208533418,
          0.08170431627647601,
          -0.13656544032933235,
          0.13358687758925458,
          0.09841466306463208,
          0.09541043913295959,
          0.03511315920085937,
          -0.06250210227923128,
          0.061414287600160974,
          -0.07319368396690562,
          -0.05669458198069065,
          -0.01578055204265047,
          0.01703165083782037,
          0.02554764612326367,
          0.009135462241471999,
          0.027014380584828784,
          0.013764967567560144,
          0.10309042754866886,
          0.02637704837971396,
          0.1025359742316759,
          0.07045877398350944,
          -0.05745371978370884,
          -0.16287423526936953,
          -0.09562385360468742,
          0.03785109661186009,
          0.08991564311883807,
          -0.09171660023725588,
          0.27258223288422573,
          -0.015451858202150283,
          0.023172865088279145,
          -0.07076334406905921,
          0.0751676141822291,
          0.037817775613141195,
          -0.009276494995575292,
          0.05097060179560926,
          -0.19768757995350508,
          0.13331078294101736,
          0.20127467313752803,
          0.12784156392835824,
          -0.1546763810980149,
          0.13503179564809586,
          -0.017989171043417716,
          -0.13631812092856985,
          0.021835842272726978,
          0.05291065581534616,
          -0.1054601533107872,
          -0.21638408618446311,
          0.01806655903375495,
          0.05033553495834101,
          -0.21090266004356736,
          -0.0803904805586425,
          0.0012082885551805028,
          0.023730253189279595,
          0.058550103255831196,
          0.06517014810566177,
          0.004585629722792692,
          -0.005007964666556566,
          -0.05881967831486911,
          -0.10630657276324627,
          -0.08719761262017205,
          0.058868251955575775,
          0.022805711006035595,
          0.10671813188329532,
          -0.1485161479876839,
          0.02284012115180392,
          -0.07236045917363662,
          -0.025362288116181308,
          -0.050711889491796155,
          -0.039704936899249296,
          -0.006143714718724785,
          -0.05312265016617806,
          0.040494750389241524,
          0.12919992127207677,
          -0.017606417764556154,
          -0.10014999364870385,
          0.0795602393975949,
          -0.016786811418481748,
          -0.10420759931649773,
          0.10780942925854332,
          0.02742453267049387,
          0.04096998966332564,
          0.028244699178262434,
          -0.06576617399477369,
          0.06805969893888308,
          -0.011378418052729765,
          -0.13092671329609015,
          0.04592887955118359,
          0.058053847978782464,
          0.24439657260660794,
          -0.09856440652196671,
          -0.005448890742431587,
          0.14903861558861778,
          -0.01001975137450903,
          0.08550027142159122,
          0.02798766483145269,
          0.04659340724356209,
          0.0027736059728747523,
          -0.006505825654637026,
          -0.1679051037703173,
          0.0015939411877849694,
          -0.14208018620061913,
          -0.0011977623644805072,
          0.10088879138623978,
          0.15283154872719187,
          0.07558184541272514,
          -0.10483700517985262,
          0.0407422456300995,
          -0.04465636224024925,
          -0.08130202910224288,
          -6.622873828045156E-4,
          0.018122890250782994,
          -0.1140331626503238,
          0.10462903424293007,
          -0.03491897697379327,
          0.2705531511564632,
          -0.02621936341002565,
          0.10335756487570745,
          -0.03596580730231035,
          -0.011289980154530005,
          -0.09186834932970457,
          0.10925290538713957,
          -0.02599606692784295,
          0.031225492055443435,
          -0.03381334545701945,
          0.08476210313794134,
          0.013491159428344059,
          0.28171570603376545,
          -0.060887702583338456,
          -0.04249249725930667,
          0.21459778717263833,
          0.03977814184925255,
          -0.1799940140707283,
          -0.0955865714440113,
          0.21533599890101363,
          0.07901342906863182,
          0.018322830704822036,
          -0.08585256351669343,
          0.11481754175078293,
          -0.08191883771351291,
          0.0650529071006075,
          0.1333912050641777,
          0.1215960695616192,
          -0.054881694806965524,
          0.04619694839311949,
          0.07967697420113533,
          0.074878902791771,
          -0.14074086095904825,
          -0.05566587828906341,
          0.14371828180209273,
          -0.002468045151519358,
          -0.17433660274469293,
          -0.031610328508431235,
          -0.0057879466720836305,
          -0.012699175755933387,
          0.14214849037831187,
          -0.06969775754913518,
          0.0025424594820026847,
          -0.05007885721556076,
          -0.02774470748097763,
          0.002576654597976549,
          -1.426078300690087E-4,
          -0.07310306909958969,
          -0.03434774082995809,
          -0.010417133924417309,
          -0.1040661285364666,
          0.009289305604789723,
          -0.13500142418959116,
          0.19120356785732884,
          0.03996085580684906,
          -0.0413219687073022,
          0.35323926815263956,
          -0.23222798070481612,
          -0.037553250151776636,
          0.022382032162910383,
          -0.040964382354185085,
          0.03534373469479298,
          -0.16013434724845665,
          -0.022860813439890028,
          -0.15034506543741857,
          0.05150800654388585,
          -0.07654132683025426,
          -0.05529527027526152,
          0.013763198472299175,
          0.010895122042699632,
          -0.01152459071946319,
          -0.08068210866541392,
          0.034789438063350546,
          -0.1900827193540335,
          -0.026242573019513354,
          0.15168560337855042,
          0.06670036720450646,
          0.11443610285628451,
          0.09675750777114757,
          0.011436152461430295,
          0.061454614858410285,
          0.059149054051321884,
          0.0251329768379169,
          0.15807913865519407,
          -0.0015057637975545168,
          -0.046672676012726844,
          0.10410202490219791,
          -0.2771297406974282,
          -0.012790025977088056,
          -0.0024773137497802783,
          0.17924574891974476,
          -0.01613386573124759,
          -0.08117687829613947,
          -0.21427458290358922,
          -0.10549610680815734,
          -0.060007731726785314,
          0.17696757792599802,
          0.010767034162413354,
          0.012232042395196166,
          0.04754542625029253,
          0.12829866106524226,
          -0.023688095501688978,
          -0.01149178031220167,
          0.04115744885124528,
          -0.04354757343066459,
          0.0645482750893411,
          -0.17554992723134735,
          0.08481321864772282,
          -0.012392873429356466,
          0.031109291966124875,
          -0.06843239506673018,
          -0.09593967609496958,
          -0.021347026579742027,
          0.1507486955950491,
          -0.04749799201948142,
          0.05205566325965453,
          0.11871699941673318,
          -0.011230010969755483,
          -0.04175991833087111,
          0.03839628251327814,
          0.21840756739859207,
          -0.13378164074558904,
          0.042589990478756674,
          0.08729024208770335,
          0.07721166917037492,
          0.02294806113351824,
          0.06845219423582743,
          0.02944181641861749,
          -0.11968252525723057,
          -0.12655826091355868,
          0.11844315249707993,
          -0.10260824255394078,
          -0.03548871062616149,
          -0.044619576907061774,
          0.005903418597992556,
          -0.016111363931037997,
          -0.025939825086778442,
          -0.0718915072754286,
          0.12615789260548813,
          0.13930385789497868,
          -0.15572096275666877,
          0.06360706465206498,
          0.06493626514517394,
          0.06416112695962801,
          -0.14812041145306576,
          -0.035348721249716275,
          -0.08102441304243023,
          0.018670440762000612,
          -0.0145913030969116,
          0.07464022782463206,
          -0.10004747365335095,
          -0.1085295839123321,
          0.049590619731340095,
          0.09383979767236787,
          -0.004389766948863935,
          0.04350212693001315,
          -0.10606635627173357,
          -0.004891836488937293,
          -0.006080885589109703,
          0.01248623166446509,
          -0.013957569949550908,
          -0.11393538269150694,
          -0.20107379594285346,
          0.040638465985173046,
          -0.06066150137486475,
          0.08924580482822854,
          -0.10024507917032725,
          0.02596546228815359,
          0.11852966058513612,
          0.05630775304000338,
          0.08499459685508101,
          0.1135981991424063,
          -0.10868381708935479,
          0.016953509914512093,
          -0.20613574310516355,
          0.06940159125956481,
          0.05613624537489177,
          -0.04655332821857616,
          0.007966692874453516,
          -0.048819654270021794,
          0.10478956753448858,
          0.06526948975516385,
          0.005477587002202879,
          -0.135270643757558,
          -0.06832172396752788,
          0.07690100162049902
         ],
         "xaxis": "x",
         "y": [
          0.044461460260634224,
          -0.01520879450533498,
          -0.05957012623191797,
          0.014914926449173027,
          -0.00404530690492515,
          0.21404890138470767,
          0.25504621354628837,
          -0.08780471529785765,
          -0.12098834361726468,
          0.10794524439019403,
          -0.1308953806846315,
          0.01664589543493232,
          0.03823318117647038,
          0.06666561678072506,
          0.0010692091126624657,
          -0.02705393020729928,
          0.12613304992918278,
          -0.009220865988367348,
          0.12798476722980517,
          -0.15211872322335507,
          0.341776654369861,
          0.024924726242490074,
          0.15927165088036338,
          -0.03513005588152004,
          -0.22156489885680714,
          -0.03860814598330571,
          -0.04148212627121926,
          -0.04806686382400673,
          0.06998990409103735,
          0.03939681488343472,
          -0.06781078781286895,
          -0.059865546161990545,
          -0.08498901998136878,
          0.05305699765603376,
          -0.005528720599328462,
          -0.09325466862374077,
          0.24449985675081765,
          0.1153469365809573,
          -0.03561800909801542,
          -0.14009788379949734,
          -0.08618794267083517,
          -0.09569931151874891,
          0.008399007447292467,
          -0.003437374683813834,
          0.06294159319608937,
          -0.1040153290169464,
          0.07332528483365021,
          -0.09940214277745864,
          -0.049890142265509425,
          -0.08095740596438522,
          -0.10304372882763238,
          -0.035293581770197105,
          -0.1157036682014611,
          0.14273655753199269,
          -0.1012592790912774,
          -0.007178727577798102,
          -0.042259579902051876,
          0.04584353246584239,
          0.08226890670065075,
          -0.06705393678628817,
          0.0986326513576834,
          0.17448308788006645,
          0.3351060169226666,
          -7.314879338942359E-4,
          0.10905748921340906,
          -0.023510799170522664,
          -0.0031113426316856847,
          -0.07942342242344663,
          -0.003423956126376604,
          0.0031345013815651038,
          -0.058520786943296474,
          0.05271521573742154,
          0.050406486489984054,
          0.19811881385906907,
          0.040511738552946715,
          -0.14088754670382977,
          0.045966226009829324,
          -0.13431486698420406,
          0.06393028745171217,
          -0.024515955293709212,
          0.19047397557374174,
          0.0654176238059927,
          -0.009714409098867581,
          -0.09404633834600042,
          0.13587268943654873,
          -0.07050584083483574,
          0.03765030312860684,
          0.05217366500058054,
          -0.03757810896177474,
          0.03648513994121548,
          0.014716159374397653,
          0.08051720053963442,
          0.0020537564730661417,
          -0.08152331533034705,
          -0.026827075296261493,
          -0.06283003454064362,
          -9.864211402401425E-4,
          -0.022675567570426068,
          0.021740227972524895,
          -0.1041627795039839,
          -0.011808457448999863,
          0.008202212557673252,
          -0.16935488836329057,
          -0.044324974361702005,
          0.0013499242421202526,
          0.1234472145295044,
          0.11712436956387241,
          -0.024809412524912082,
          -0.0738936237237869,
          0.06347120503578668,
          0.028409385401921592,
          -0.005383124573183925,
          0.017704500596540645,
          0.03507829159733708,
          -0.06702628397904264,
          -0.032410383575742614,
          0.08647303393151198,
          -0.0010484331139677039,
          -0.033847407162748436,
          -0.0020036294568285557,
          0.009557459573687832,
          0.02599247370282389,
          -0.0035865878027578285,
          0.024010089447033,
          -0.014171422404174,
          -0.03626945975783772,
          0.07710970292468082,
          -0.08898496035423445,
          -0.06753662900043267,
          0.04296339373557454,
          0.04403033757890192,
          0.040903389247144366,
          -0.028788837491073176,
          0.007358889775230127,
          -0.024268770040962343,
          0.17152365430614405,
          -0.12841726671607298,
          -0.1407639349127743,
          -0.1944199404430884,
          -0.08570561044409086,
          0.048229790334524694,
          -0.0026928165523313324,
          0.07315505506719713,
          -0.13151849181821676,
          0.010512460470624164,
          -0.14543117825066615,
          -0.1115522886510546,
          0.06627294845803222,
          0.04558964266468913,
          0.04712401180857901,
          -0.09445987630346327,
          0.012421457651436079,
          0.05602295190220777,
          0.03971602403782623,
          0.08175212210407475,
          -0.0457745014511374,
          -0.052252170001397355,
          -0.010259750231896455,
          -0.040446592776853876,
          -0.060340203814054916,
          0.00865427794639233,
          0.12352873318807554,
          0.08772726353679709,
          -0.08525673735208207,
          -0.05760111984560629,
          -0.09232657595098394,
          -0.048253247353891575,
          -0.01548003707699155,
          -0.11047551963692473,
          0.028043293669152473,
          -0.08727413335380955,
          0.008765680839302356,
          0.011928168027111333,
          -0.0271458158310946,
          -0.1511077387565575,
          -0.022431210695350368,
          0.10114649521313457,
          -0.05971030587899888,
          0.14986177883425647,
          0.08332458929658026,
          -0.07655882060695694,
          -0.04340855652412812,
          -0.021870656609577432,
          -0.049840166089353335,
          0.022847813847422894,
          -0.0348153545528708,
          -0.04637763747363913,
          -0.007750558996100365,
          -0.0948687724469605,
          -0.09155384100502384,
          -0.05821256958221934,
          -0.11274864530739935,
          -0.009374003934793342,
          0.07268906964170918,
          0.13026973862280322,
          -0.032622644906425705,
          0.16196738208433403,
          -0.019203896812917894,
          -0.003654365098113619,
          0.050007406196703984,
          0.06872159384319707,
          -0.02033614512758254,
          -0.0029388134870546867,
          -0.16103571201599368,
          0.009576640510302332,
          0.11470188040968955,
          -0.029108704624930815,
          -0.0546595865540976,
          -0.1864874115391726,
          0.12925637212734523,
          -0.03280148462958215,
          -0.13303956056641222,
          0.02798375802087532,
          0.13016236199074718,
          -0.08598226272659491,
          -0.022274234332668518,
          -0.09042631623592373,
          -0.11907214775578157,
          -0.0713920139759101,
          0.09743629860708965,
          0.06350609284748093,
          -0.003237532381954449,
          -0.2082286016372078,
          -0.09699202773952523,
          -0.05950520810512936,
          0.01873445530876266,
          -0.11061920684684405,
          0.21365500335548543,
          -0.054253078818143306,
          -0.057023167497338274,
          -0.029710534962963234,
          -0.12472897611744203,
          0.21657995861908133,
          -0.08948649204805152,
          -0.28063725231377784,
          -0.041974032195408496,
          0.021529030804687422,
          0.047462780563693074,
          0.03092269998623841,
          0.07779122846821135,
          0.05325943132457168,
          0.07518833124398643,
          -0.06938577701655486,
          0.060046513162947,
          -0.0011564651610199293,
          0.08206364309914312,
          7.745157027617339E-4,
          -0.016473824984678982,
          0.02682808436355918,
          0.07007820156883697,
          -0.025562606775181376,
          0.007600250034003047,
          0.16022433339586087,
          0.15018593717893128,
          -0.1266193686874372,
          -0.15687679076549227,
          -0.05566350992170718,
          -0.06492563021716963,
          -0.0303951595612498,
          -0.04815727920982503,
          -0.0449162915265594,
          -0.03513077150764874,
          -0.058639437081227486,
          0.05596929340757506,
          -0.1195582098836105,
          0.10601530063224643,
          3.8903387183100425E-4,
          -0.03058259190398215,
          0.03719645685166433,
          0.06750235262540685,
          -0.11141134477534868,
          -0.03984836764711805,
          -0.052391316081912956,
          0.030597562043651105,
          0.010615932834616496,
          -0.0470380047715694,
          -0.0990134829319394,
          0.09545550842037691,
          0.041435367920837525,
          0.044262410040878934,
          0.08341843437060376,
          -0.05826899293182463,
          0.03096246528822173,
          -0.017226473328218618,
          0.021155556845656284,
          -0.14543803146877443,
          0.2675014120530844,
          -0.17221616566637207,
          -0.012327476967321751,
          0.11205551024339531,
          0.23041678573299054,
          -0.0014514690758267717,
          0.06412663084951972,
          0.1646163964654389,
          -0.04388208507998803,
          0.03597924667931473,
          0.057920818214837924,
          -0.0846759670940136,
          -0.021923263235142397,
          -0.0656401227420964,
          -0.033673092271597135,
          -0.20510794611156305,
          -0.03353812227736256,
          0.025229277674371556,
          -0.17439080477327532,
          -0.017094757434528176,
          -0.016199822290063712,
          -0.0679063631768653,
          -0.13832332033306438,
          0.2278033633516103,
          -1.6073114544679225E-4,
          0.07266797038914113,
          0.09357243203825664,
          0.0685367198920194,
          -0.007239187959235814,
          -0.02348709784346506,
          -0.0029620573700935384,
          0.16879698150008332,
          -0.013201529260823292,
          0.14188391283006593,
          -0.17238789965224988,
          0.053025324082138385,
          0.03570650903248464,
          -0.0428139740361092,
          -0.0036371118634200526,
          0.23344460470317552,
          0.20777752582933953,
          0.06005447008362927,
          -0.1306204482696027,
          -0.02498199356614921,
          0.060594259751894704,
          -0.039690852554506634,
          -0.03518858177238205,
          0.23767359841947194,
          -0.1959673009428486,
          0.03554295150909857,
          0.18231415331713013,
          0.05048919612441039,
          0.051762047591218927,
          0.04484297804065058,
          -0.009345804740894791,
          0.023007924353265357,
          0.08835504386452006,
          -0.08907774392769503,
          0.028108543201296098,
          0.32388072929232414,
          0.07049949538342609,
          -0.03374683257383709,
          -0.03771548905734076,
          0.1251664291081319,
          0.014951967149149079,
          -0.10959145043689707,
          -0.07804547208388495,
          -0.17400574846747907,
          -0.08505848996378924,
          0.093087736466323,
          0.1377038634384282,
          -0.01916281950070619,
          -0.1510803457462205,
          -0.03443246373764406,
          -0.09566516349770045,
          -0.0011128398382834095,
          0.03890855308828556,
          0.01521220885648103,
          0.13924614449432046,
          -0.04130209732864124,
          -0.04772166722878643,
          0.07104425287635566,
          0.07797406116931009,
          0.06157040757969156,
          -0.04346297161981442,
          -0.003158264568516568,
          -0.09856412545419542,
          -0.054283831034933804,
          -0.0067310711434541886,
          -0.12456695982523926,
          0.06569403703850786,
          -0.05767649477136125,
          -0.021448534368552753,
          0.09996828934934318,
          -0.12260377413513754,
          -0.03995226955833077,
          0.04645031297500361,
          0.09578326428200694,
          -0.018090773208802004,
          0.1268203555607623,
          0.06002784306314753,
          -0.057154936220704625,
          -0.18888092913599794,
          0.03524936872410566,
          -0.00647647874697038,
          -0.07778605835682835,
          0.022386374824339448,
          -0.054939920582184915,
          0.11638569203120096,
          0.03426677101122489,
          0.09743101886335646,
          -0.09867035041393274,
          -0.03012918111417033,
          -0.009087576597735781
         ],
         "yaxis": "y",
         "type": "scatter"
        }
       ],
       "layout": {
        "template": {
         "data": {
          "bar": [
           {
            "error_x": {
             "color": "#2a3f5f"
            },
            "error_y": {
             "color": "#2a3f5f"
            },
            "marker": {
             "line": {
              "color": "#E5ECF6",
              "width": 0.5
             },
             "pattern": {
              "fillmode": "overlay",
              "size": 10,
              "solidity": 0.2
             }
            },
            "type": "bar"
           }
          ],
          "barpolar": [
           {
            "marker": {
             "line": {
              "color": "#E5ECF6",
              "width": 0.5
             },
             "pattern": {
              "fillmode": "overlay",
              "size": 10,
              "solidity": 0.2
             }
            },
            "type": "barpolar"
           }
          ],
          "carpet": [
           {
            "aaxis": {
             "endlinecolor": "#2a3f5f",
             "gridcolor": "white",
             "linecolor": "white",
             "minorgridcolor": "white",
             "startlinecolor": "#2a3f5f"
            },
            "baxis": {
             "endlinecolor": "#2a3f5f",
             "gridcolor": "white",
             "linecolor": "white",
             "minorgridcolor": "white",
             "startlinecolor": "#2a3f5f"
            },
            "type": "carpet"
           }
          ],
          "choropleth": [
           {
            "colorbar": {
             "outlinewidth": 0,
             "ticks": ""
            },
            "type": "choropleth"
           }
          ],
          "contour": [
           {
            "colorbar": {
             "outlinewidth": 0,
             "ticks": ""
            },
            "colorscale": [
             [
              0.0,
              "#0d0887"
             ],
             [
              0.1111111111111111,
              "#46039f"
             ],
             [
              0.2222222222222222,
              "#7201a8"
             ],
             [
              0.3333333333333333,
              "#9c179e"
             ],
             [
              0.4444444444444444,
              "#bd3786"
             ],
             [
              0.5555555555555556,
              "#d8576b"
             ],
             [
              0.6666666666666666,
              "#ed7953"
             ],
             [
              0.7777777777777778,
              "#fb9f3a"
             ],
             [
              0.8888888888888888,
              "#fdca26"
             ],
             [
              1.0,
              "#f0f921"
             ]
            ],
            "type": "contour"
           }
          ],
          "contourcarpet": [
           {
            "colorbar": {
             "outlinewidth": 0,
             "ticks": ""
            },
            "type": "contourcarpet"
           }
          ],
          "heatmap": [
           {
            "colorbar": {
             "outlinewidth": 0,
             "ticks": ""
            },
            "colorscale": [
             [
              0.0,
              "#0d0887"
             ],
             [
              0.1111111111111111,
              "#46039f"
             ],
             [
              0.2222222222222222,
              "#7201a8"
             ],
             [
              0.3333333333333333,
              "#9c179e"
             ],
             [
              0.4444444444444444,
              "#bd3786"
             ],
             [
              0.5555555555555556,
              "#d8576b"
             ],
             [
              0.6666666666666666,
              "#ed7953"
             ],
             [
              0.7777777777777778,
              "#fb9f3a"
             ],
             [
              0.8888888888888888,
              "#fdca26"
             ],
             [
              1.0,
              "#f0f921"
             ]
            ],
            "type": "heatmap"
           }
          ],
          "heatmapgl": [
           {
            "colorbar": {
             "outlinewidth": 0,
             "ticks": ""
            },
            "colorscale": [
             [
              0.0,
              "#0d0887"
             ],
             [
              0.1111111111111111,
              "#46039f"
             ],
             [
              0.2222222222222222,
              "#7201a8"
             ],
             [
              0.3333333333333333,
              "#9c179e"
             ],
             [
              0.4444444444444444,
              "#bd3786"
             ],
             [
              0.5555555555555556,
              "#d8576b"
             ],
             [
              0.6666666666666666,
              "#ed7953"
             ],
             [
              0.7777777777777778,
              "#fb9f3a"
             ],
             [
              0.8888888888888888,
              "#fdca26"
             ],
             [
              1.0,
              "#f0f921"
             ]
            ],
            "type": "heatmapgl"
           }
          ],
          "histogram": [
           {
            "marker": {
             "pattern": {
              "fillmode": "overlay",
              "size": 10,
              "solidity": 0.2
             }
            },
            "type": "histogram"
           }
          ],
          "histogram2d": [
           {
            "colorbar": {
             "outlinewidth": 0,
             "ticks": ""
            },
            "colorscale": [
             [
              0.0,
              "#0d0887"
             ],
             [
              0.1111111111111111,
              "#46039f"
             ],
             [
              0.2222222222222222,
              "#7201a8"
             ],
             [
              0.3333333333333333,
              "#9c179e"
             ],
             [
              0.4444444444444444,
              "#bd3786"
             ],
             [
              0.5555555555555556,
              "#d8576b"
             ],
             [
              0.6666666666666666,
              "#ed7953"
             ],
             [
              0.7777777777777778,
              "#fb9f3a"
             ],
             [
              0.8888888888888888,
              "#fdca26"
             ],
             [
              1.0,
              "#f0f921"
             ]
            ],
            "type": "histogram2d"
           }
          ],
          "histogram2dcontour": [
           {
            "colorbar": {
             "outlinewidth": 0,
             "ticks": ""
            },
            "colorscale": [
             [
              0.0,
              "#0d0887"
             ],
             [
              0.1111111111111111,
              "#46039f"
             ],
             [
              0.2222222222222222,
              "#7201a8"
             ],
             [
              0.3333333333333333,
              "#9c179e"
             ],
             [
              0.4444444444444444,
              "#bd3786"
             ],
             [
              0.5555555555555556,
              "#d8576b"
             ],
             [
              0.6666666666666666,
              "#ed7953"
             ],
             [
              0.7777777777777778,
              "#fb9f3a"
             ],
             [
              0.8888888888888888,
              "#fdca26"
             ],
             [
              1.0,
              "#f0f921"
             ]
            ],
            "type": "histogram2dcontour"
           }
          ],
          "mesh3d": [
           {
            "colorbar": {
             "outlinewidth": 0,
             "ticks": ""
            },
            "type": "mesh3d"
           }
          ],
          "parcoords": [
           {
            "line": {
             "colorbar": {
              "outlinewidth": 0,
              "ticks": ""
             }
            },
            "type": "parcoords"
           }
          ],
          "pie": [
           {
            "automargin": true,
            "type": "pie"
           }
          ],
          "scatter": [
           {
            "marker": {
             "colorbar": {
              "outlinewidth": 0,
              "ticks": ""
             }
            },
            "type": "scatter"
           }
          ],
          "scatter3d": [
           {
            "line": {
             "colorbar": {
              "outlinewidth": 0,
              "ticks": ""
             }
            },
            "marker": {
             "colorbar": {
              "outlinewidth": 0,
              "ticks": ""
             }
            },
            "type": "scatter3d"
           }
          ],
          "scattercarpet": [
           {
            "marker": {
             "colorbar": {
              "outlinewidth": 0,
              "ticks": ""
             }
            },
            "type": "scattercarpet"
           }
          ],
          "scattergeo": [
           {
            "marker": {
             "colorbar": {
              "outlinewidth": 0,
              "ticks": ""
             }
            },
            "type": "scattergeo"
           }
          ],
          "scattergl": [
           {
            "marker": {
             "colorbar": {
              "outlinewidth": 0,
              "ticks": ""
             }
            },
            "type": "scattergl"
           }
          ],
          "scattermapbox": [
           {
            "marker": {
             "colorbar": {
              "outlinewidth": 0,
              "ticks": ""
             }
            },
            "type": "scattermapbox"
           }
          ],
          "scatterpolar": [
           {
            "marker": {
             "colorbar": {
              "outlinewidth": 0,
              "ticks": ""
             }
            },
            "type": "scatterpolar"
           }
          ],
          "scatterpolargl": [
           {
            "marker": {
             "colorbar": {
              "outlinewidth": 0,
              "ticks": ""
             }
            },
            "type": "scatterpolargl"
           }
          ],
          "scatterternary": [
           {
            "marker": {
             "colorbar": {
              "outlinewidth": 0,
              "ticks": ""
             }
            },
            "type": "scatterternary"
           }
          ],
          "surface": [
           {
            "colorbar": {
             "outlinewidth": 0,
             "ticks": ""
            },
            "colorscale": [
             [
              0.0,
              "#0d0887"
             ],
             [
              0.1111111111111111,
              "#46039f"
             ],
             [
              0.2222222222222222,
              "#7201a8"
             ],
             [
              0.3333333333333333,
              "#9c179e"
             ],
             [
              0.4444444444444444,
              "#bd3786"
             ],
             [
              0.5555555555555556,
              "#d8576b"
             ],
             [
              0.6666666666666666,
              "#ed7953"
             ],
             [
              0.7777777777777778,
              "#fb9f3a"
             ],
             [
              0.8888888888888888,
              "#fdca26"
             ],
             [
              1.0,
              "#f0f921"
             ]
            ],
            "type": "surface"
           }
          ],
          "table": [
           {
            "cells": {
             "fill": {
              "color": "#EBF0F8"
             },
             "line": {
              "color": "white"
             }
            },
            "header": {
             "fill": {
              "color": "#C8D4E3"
             },
             "line": {
              "color": "white"
             }
            },
            "type": "table"
           }
          ]
         },
         "layout": {
          "annotationdefaults": {
           "arrowcolor": "#2a3f5f",
           "arrowhead": 0,
           "arrowwidth": 1
          },
          "autotypenumbers": "strict",
          "coloraxis": {
           "colorbar": {
            "outlinewidth": 0,
            "ticks": ""
           }
          },
          "colorscale": {
           "diverging": [
            [
             0,
             "#8e0152"
            ],
            [
             0.1,
             "#c51b7d"
            ],
            [
             0.2,
             "#de77ae"
            ],
            [
             0.3,
             "#f1b6da"
            ],
            [
             0.4,
             "#fde0ef"
            ],
            [
             0.5,
             "#f7f7f7"
            ],
            [
             0.6,
             "#e6f5d0"
            ],
            [
             0.7,
             "#b8e186"
            ],
            [
             0.8,
             "#7fbc41"
            ],
            [
             0.9,
             "#4d9221"
            ],
            [
             1,
             "#276419"
            ]
           ],
           "sequential": [
            [
             0.0,
             "#0d0887"
            ],
            [
             0.1111111111111111,
             "#46039f"
            ],
            [
             0.2222222222222222,
             "#7201a8"
            ],
            [
             0.3333333333333333,
             "#9c179e"
            ],
            [
             0.4444444444444444,
             "#bd3786"
            ],
            [
             0.5555555555555556,
             "#d8576b"
            ],
            [
             0.6666666666666666,
             "#ed7953"
            ],
            [
             0.7777777777777778,
             "#fb9f3a"
            ],
            [
             0.8888888888888888,
             "#fdca26"
            ],
            [
             1.0,
             "#f0f921"
            ]
           ],
           "sequentialminus": [
            [
             0.0,
             "#0d0887"
            ],
            [
             0.1111111111111111,
             "#46039f"
            ],
            [
             0.2222222222222222,
             "#7201a8"
            ],
            [
             0.3333333333333333,
             "#9c179e"
            ],
            [
             0.4444444444444444,
             "#bd3786"
            ],
            [
             0.5555555555555556,
             "#d8576b"
            ],
            [
             0.6666666666666666,
             "#ed7953"
            ],
            [
             0.7777777777777778,
             "#fb9f3a"
            ],
            [
             0.8888888888888888,
             "#fdca26"
            ],
            [
             1.0,
             "#f0f921"
            ]
           ]
          },
          "colorway": [
           "#636efa",
           "#EF553B",
           "#00cc96",
           "#ab63fa",
           "#FFA15A",
           "#19d3f3",
           "#FF6692",
           "#B6E880",
           "#FF97FF",
           "#FECB52"
          ],
          "font": {
           "color": "#2a3f5f"
          },
          "geo": {
           "bgcolor": "white",
           "lakecolor": "white",
           "landcolor": "#E5ECF6",
           "showlakes": true,
           "showland": true,
           "subunitcolor": "white"
          },
          "hoverlabel": {
           "align": "left"
          },
          "hovermode": "closest",
          "mapbox": {
           "style": "light"
          },
          "paper_bgcolor": "white",
          "plot_bgcolor": "#E5ECF6",
          "polar": {
           "angularaxis": {
            "gridcolor": "white",
            "linecolor": "white",
            "ticks": ""
           },
           "bgcolor": "#E5ECF6",
           "radialaxis": {
            "gridcolor": "white",
            "linecolor": "white",
            "ticks": ""
           }
          },
          "scene": {
           "xaxis": {
            "backgroundcolor": "#E5ECF6",
            "gridcolor": "white",
            "gridwidth": 2,
            "linecolor": "white",
            "showbackground": true,
            "ticks": "",
            "zerolinecolor": "white"
           },
           "yaxis": {
            "backgroundcolor": "#E5ECF6",
            "gridcolor": "white",
            "gridwidth": 2,
            "linecolor": "white",
            "showbackground": true,
            "ticks": "",
            "zerolinecolor": "white"
           },
           "zaxis": {
            "backgroundcolor": "#E5ECF6",
            "gridcolor": "white",
            "gridwidth": 2,
            "linecolor": "white",
            "showbackground": true,
            "ticks": "",
            "zerolinecolor": "white"
           }
          },
          "shapedefaults": {
           "line": {
            "color": "#2a3f5f"
           }
          },
          "ternary": {
           "aaxis": {
            "gridcolor": "white",
            "linecolor": "white",
            "ticks": ""
           },
           "baxis": {
            "gridcolor": "white",
            "linecolor": "white",
            "ticks": ""
           },
           "bgcolor": "#E5ECF6",
           "caxis": {
            "gridcolor": "white",
            "linecolor": "white",
            "ticks": ""
           }
          },
          "title": {
           "x": 0.05
          },
          "xaxis": {
           "automargin": true,
           "gridcolor": "white",
           "linecolor": "white",
           "ticks": "",
           "title": {
            "standoff": 15
           },
           "zerolinecolor": "white",
           "zerolinewidth": 2
          },
          "yaxis": {
           "automargin": true,
           "gridcolor": "white",
           "linecolor": "white",
           "ticks": "",
           "title": {
            "standoff": 15
           },
           "zerolinecolor": "white",
           "zerolinewidth": 2
          }
         }
        },
        "xaxis": {
         "anchor": "y",
         "domain": [
          0.0,
          1.0
         ],
         "title": {
          "text": "0"
         }
        },
        "yaxis": {
         "anchor": "x",
         "domain": [
          0.0,
          1.0
         ],
         "title": {
          "text": "1"
         }
        },
        "coloraxis": {
         "colorbar": {
          "title": {
           "text": "color"
          }
         },
         "colorscale": [
          [
           0.0,
           "#0d0887"
          ],
          [
           0.1111111111111111,
           "#46039f"
          ],
          [
           0.2222222222222222,
           "#7201a8"
          ],
          [
           0.3333333333333333,
           "#9c179e"
          ],
          [
           0.4444444444444444,
           "#bd3786"
          ],
          [
           0.5555555555555556,
           "#d8576b"
          ],
          [
           0.6666666666666666,
           "#ed7953"
          ],
          [
           0.7777777777777778,
           "#fb9f3a"
          ],
          [
           0.8888888888888888,
           "#fdca26"
          ],
          [
           1.0,
           "#f0f921"
          ]
         ]
        },
        "legend": {
         "tracegroupgap": 0
        },
        "margin": {
         "t": 60
        }
       },
       "config": {
        "plotlyServerURL": "https://plot.ly"
       }
      },
      "text/html": "<div>                            <div id=\"f4803cd4-c18d-4890-8e66-982cffba8e98\" class=\"plotly-graph-div\" style=\"height:525px; width:100%;\"></div>            <script type=\"text/javascript\">                require([\"plotly\"], function(Plotly) {                    window.PLOTLYENV=window.PLOTLYENV || {};                                    if (document.getElementById(\"f4803cd4-c18d-4890-8e66-982cffba8e98\")) {                    Plotly.newPlot(                        \"f4803cd4-c18d-4890-8e66-982cffba8e98\",                        [{\"hovertemplate\":\"0=%{x}<br>1=%{y}<br>color=%{marker.color}<extra></extra>\",\"legendgroup\":\"\",\"marker\":{\"color\":[0,1,0,0,0,1,1,0,0,0,0,1,0,1,1,1,0,1,0,0,1,0,1,1,0,1,1,1,0,0,1,1,0,1,0,1,0,1,1,0,1,0,0,0,0,1,0,0,1,0,1,1,1,1,0,1,1,1,0,1,1,0,0,1,0,1,0,1,0,0,0,0,1,0,1,0,1,1,0,1,0,0,1,1,0,0,1,0,0,0,0,0,1,1,0,0,1,0,0,1,0,1,1,0,1,0,0,1,0,0,0,1,0,0,0,0,1,1,1,1,1,0,1,0,1,1,0,0,1,0,0,0,1,0,0,1,0,0,0,1,0,0,1,1,0,0,1,0,0,1,1,1,0,1,1,0,0,0,1,1,1,0,0,1,1,0,0,1,1,1,0,0,0,0,1,0,1,1,1,1,0,1,0,1,1,0,1,1,0,1,0,0,0,1,0,1,0,0,0,0,1,1,1,0,0,0,0,1,1,0,0,1,1,0,0,0,1,0,1,0,1,1,0,1,0,1,1,1,0,0,1,1,1,1,1,1,1,1,1,0,0,1,0,1,1,0,0,1,1,0,1,0,0,1,1,0,1,1,1,1,0,1,1,0,1,0,1,1,1,1,0,0,1,0,1,0,1,0,0,1,1,1,1,0,0,0,1,1,0,1,1,0,1,0,0,0,1,1,0,0,0,1,1,1,0,0,1,1,0,1,1,0,0,0,1,1,0,1,1,0,1,1,1,1,0,0,1,0,0,1,0,0,1,1,0,0,0,1,0,0,1,1,1,1,0,1,1,1,0,0,0,0,0,0,1,0,0,1,1,0,1,1,1,1,1,0,1,0,0,1,1,0,1,0,1,1,1,1,1,1,0,0,0,0,0,0,1,0,0,1,0,0,0,1,0,0,1,0,0,1],\"coloraxis\":\"coloraxis\",\"symbol\":\"circle\"},\"mode\":\"markers\",\"name\":\"\",\"orientation\":\"v\",\"showlegend\":false,\"x\":[0.10528074710494612,0.016061174537982264,-0.08656949715636049,-0.002954353660506205,6.307167493270751e-05,0.02372603597334167,-0.023128545850910762,-0.03226940051283008,0.24049958571613123,-0.23398946084707714,-0.17069705340189087,-0.03347159581416819,-0.010297313021604781,0.010745371001004062,0.10536388468610333,-0.09413554532449375,-0.019100636611180843,-0.07249973913494923,0.008735539185813579,-0.1902209401682345,-0.20989830163964351,0.09795281350120671,-0.0874013844544382,0.024150393653316997,0.1361339999058673,-0.07401594293939083,0.00986710839343206,-0.13101436425519666,0.13331392482815652,-0.022270206169291082,-0.018550967489270744,-0.09031391513940813,-0.08582827257714733,-0.018893348299746662,-0.07754225011104394,-0.09742945634011022,0.10834191039880343,0.007664485397796032,-0.044344227301985034,0.24136353662007987,-0.04878985578397822,0.1779188683558328,0.1066508756297251,-0.07661660934662981,-0.029949343567162647,0.1245717173951805,-0.07793538680080454,0.24407007228172511,-0.011800289826071573,0.03377320242444628,0.07889152629798486,-0.11085897929517029,-0.06272462826011187,-0.17705329437762246,-0.02428660289638109,-0.024237473192434432,-0.09349262417387122,-0.0010127577444204586,0.08114099146233972,0.020614683928764633,-0.0772405287756523,-0.05920247137014917,-0.0025336771169812266,-0.04980271008387041,-0.1412374620975021,-0.007390104796119493,0.06618023720404095,0.21107422691977112,0.04174166536196344,0.009335247856631385,0.00952534562383955,0.005238564184106226,-0.034841235559445155,-0.026728899655466588,0.08329862465382111,-0.26309294406196343,-0.015199072154907352,-0.04569830236097221,0.06140450334832375,-0.053206275685535445,-0.10792403964280294,-0.10173798110366644,-0.035805508499588835,-0.06255860291039139,0.06485856647670388,0.03475391785584852,0.034770290604628634,0.08142688990513366,-0.04020618487478036,0.05917872358707698,0.035215982237987935,-0.07101913693681555,-0.06370057445466086,0.042428719801739415,-0.10137411430022623,-0.00019286166086819134,0.108862891281301,0.021750909358412375,0.0031279735977301866,-0.06720130477634771,-0.10078324208533418,0.08170431627647601,-0.13656544032933235,0.13358687758925458,0.09841466306463208,0.09541043913295959,0.03511315920085937,-0.06250210227923128,0.061414287600160974,-0.07319368396690562,-0.05669458198069065,-0.01578055204265047,0.01703165083782037,0.02554764612326367,0.009135462241471999,0.027014380584828784,0.013764967567560144,0.10309042754866886,0.02637704837971396,0.1025359742316759,0.07045877398350944,-0.05745371978370884,-0.16287423526936953,-0.09562385360468742,0.03785109661186009,0.08991564311883807,-0.09171660023725588,0.27258223288422573,-0.015451858202150283,0.023172865088279145,-0.07076334406905921,0.0751676141822291,0.037817775613141195,-0.009276494995575292,0.05097060179560926,-0.19768757995350508,0.13331078294101736,0.20127467313752803,0.12784156392835824,-0.1546763810980149,0.13503179564809586,-0.017989171043417716,-0.13631812092856985,0.021835842272726978,0.05291065581534616,-0.1054601533107872,-0.21638408618446311,0.01806655903375495,0.05033553495834101,-0.21090266004356736,-0.0803904805586425,0.0012082885551805028,0.023730253189279595,0.058550103255831196,0.06517014810566177,0.004585629722792692,-0.005007964666556566,-0.05881967831486911,-0.10630657276324627,-0.08719761262017205,0.058868251955575775,0.022805711006035595,0.10671813188329532,-0.1485161479876839,0.02284012115180392,-0.07236045917363662,-0.025362288116181308,-0.050711889491796155,-0.039704936899249296,-0.006143714718724785,-0.05312265016617806,0.040494750389241524,0.12919992127207677,-0.017606417764556154,-0.10014999364870385,0.0795602393975949,-0.016786811418481748,-0.10420759931649773,0.10780942925854332,0.02742453267049387,0.04096998966332564,0.028244699178262434,-0.06576617399477369,0.06805969893888308,-0.011378418052729765,-0.13092671329609015,0.04592887955118359,0.058053847978782464,0.24439657260660794,-0.09856440652196671,-0.005448890742431587,0.14903861558861778,-0.01001975137450903,0.08550027142159122,0.02798766483145269,0.04659340724356209,0.0027736059728747523,-0.006505825654637026,-0.1679051037703173,0.0015939411877849694,-0.14208018620061913,-0.0011977623644805072,0.10088879138623978,0.15283154872719187,0.07558184541272514,-0.10483700517985262,0.0407422456300995,-0.04465636224024925,-0.08130202910224288,-0.0006622873828045156,0.018122890250782994,-0.1140331626503238,0.10462903424293007,-0.03491897697379327,0.2705531511564632,-0.02621936341002565,0.10335756487570745,-0.03596580730231035,-0.011289980154530005,-0.09186834932970457,0.10925290538713957,-0.02599606692784295,0.031225492055443435,-0.03381334545701945,0.08476210313794134,0.013491159428344059,0.28171570603376545,-0.060887702583338456,-0.04249249725930667,0.21459778717263833,0.03977814184925255,-0.1799940140707283,-0.0955865714440113,0.21533599890101363,0.07901342906863182,0.018322830704822036,-0.08585256351669343,0.11481754175078293,-0.08191883771351291,0.0650529071006075,0.1333912050641777,0.1215960695616192,-0.054881694806965524,0.04619694839311949,0.07967697420113533,0.074878902791771,-0.14074086095904825,-0.05566587828906341,0.14371828180209273,-0.002468045151519358,-0.17433660274469293,-0.031610328508431235,-0.0057879466720836305,-0.012699175755933387,0.14214849037831187,-0.06969775754913518,0.0025424594820026847,-0.05007885721556076,-0.02774470748097763,0.002576654597976549,-0.0001426078300690087,-0.07310306909958969,-0.03434774082995809,-0.010417133924417309,-0.1040661285364666,0.009289305604789723,-0.13500142418959116,0.19120356785732884,0.03996085580684906,-0.0413219687073022,0.35323926815263956,-0.23222798070481612,-0.037553250151776636,0.022382032162910383,-0.040964382354185085,0.03534373469479298,-0.16013434724845665,-0.022860813439890028,-0.15034506543741857,0.05150800654388585,-0.07654132683025426,-0.05529527027526152,0.013763198472299175,0.010895122042699632,-0.01152459071946319,-0.08068210866541392,0.034789438063350546,-0.1900827193540335,-0.026242573019513354,0.15168560337855042,0.06670036720450646,0.11443610285628451,0.09675750777114757,0.011436152461430295,0.061454614858410285,0.059149054051321884,0.0251329768379169,0.15807913865519407,-0.0015057637975545168,-0.046672676012726844,0.10410202490219791,-0.2771297406974282,-0.012790025977088056,-0.0024773137497802783,0.17924574891974476,-0.01613386573124759,-0.08117687829613947,-0.21427458290358922,-0.10549610680815734,-0.060007731726785314,0.17696757792599802,0.010767034162413354,0.012232042395196166,0.04754542625029253,0.12829866106524226,-0.023688095501688978,-0.01149178031220167,0.04115744885124528,-0.04354757343066459,0.0645482750893411,-0.17554992723134735,0.08481321864772282,-0.012392873429356466,0.031109291966124875,-0.06843239506673018,-0.09593967609496958,-0.021347026579742027,0.1507486955950491,-0.04749799201948142,0.05205566325965453,0.11871699941673318,-0.011230010969755483,-0.04175991833087111,0.03839628251327814,0.21840756739859207,-0.13378164074558904,0.042589990478756674,0.08729024208770335,0.07721166917037492,0.02294806113351824,0.06845219423582743,0.02944181641861749,-0.11968252525723057,-0.12655826091355868,0.11844315249707993,-0.10260824255394078,-0.03548871062616149,-0.044619576907061774,0.005903418597992556,-0.016111363931037997,-0.025939825086778442,-0.0718915072754286,0.12615789260548813,0.13930385789497868,-0.15572096275666877,0.06360706465206498,0.06493626514517394,0.06416112695962801,-0.14812041145306576,-0.035348721249716275,-0.08102441304243023,0.018670440762000612,-0.0145913030969116,0.07464022782463206,-0.10004747365335095,-0.1085295839123321,0.049590619731340095,0.09383979767236787,-0.004389766948863935,0.04350212693001315,-0.10606635627173357,-0.004891836488937293,-0.006080885589109703,0.01248623166446509,-0.013957569949550908,-0.11393538269150694,-0.20107379594285346,0.040638465985173046,-0.06066150137486475,0.08924580482822854,-0.10024507917032725,0.02596546228815359,0.11852966058513612,0.05630775304000338,0.08499459685508101,0.1135981991424063,-0.10868381708935479,0.016953509914512093,-0.20613574310516355,0.06940159125956481,0.05613624537489177,-0.04655332821857616,0.007966692874453516,-0.048819654270021794,0.10478956753448858,0.06526948975516385,0.005477587002202879,-0.135270643757558,-0.06832172396752788,0.07690100162049902],\"xaxis\":\"x\",\"y\":[0.044461460260634224,-0.01520879450533498,-0.05957012623191797,0.014914926449173027,-0.00404530690492515,0.21404890138470767,0.25504621354628837,-0.08780471529785765,-0.12098834361726468,0.10794524439019403,-0.1308953806846315,0.01664589543493232,0.03823318117647038,0.06666561678072506,0.0010692091126624657,-0.02705393020729928,0.12613304992918278,-0.009220865988367348,0.12798476722980517,-0.15211872322335507,0.341776654369861,0.024924726242490074,0.15927165088036338,-0.03513005588152004,-0.22156489885680714,-0.03860814598330571,-0.04148212627121926,-0.04806686382400673,0.06998990409103735,0.03939681488343472,-0.06781078781286895,-0.059865546161990545,-0.08498901998136878,0.05305699765603376,-0.005528720599328462,-0.09325466862374077,0.24449985675081765,0.1153469365809573,-0.03561800909801542,-0.14009788379949734,-0.08618794267083517,-0.09569931151874891,0.008399007447292467,-0.003437374683813834,0.06294159319608937,-0.1040153290169464,0.07332528483365021,-0.09940214277745864,-0.049890142265509425,-0.08095740596438522,-0.10304372882763238,-0.035293581770197105,-0.1157036682014611,0.14273655753199269,-0.1012592790912774,-0.007178727577798102,-0.042259579902051876,0.04584353246584239,0.08226890670065075,-0.06705393678628817,0.0986326513576834,0.17448308788006645,0.3351060169226666,-0.0007314879338942359,0.10905748921340906,-0.023510799170522664,-0.0031113426316856847,-0.07942342242344663,-0.003423956126376604,0.0031345013815651038,-0.058520786943296474,0.05271521573742154,0.050406486489984054,0.19811881385906907,0.040511738552946715,-0.14088754670382977,0.045966226009829324,-0.13431486698420406,0.06393028745171217,-0.024515955293709212,0.19047397557374174,0.0654176238059927,-0.009714409098867581,-0.09404633834600042,0.13587268943654873,-0.07050584083483574,0.03765030312860684,0.05217366500058054,-0.03757810896177474,0.03648513994121548,0.014716159374397653,0.08051720053963442,0.0020537564730661417,-0.08152331533034705,-0.026827075296261493,-0.06283003454064362,-0.0009864211402401425,-0.022675567570426068,0.021740227972524895,-0.1041627795039839,-0.011808457448999863,0.008202212557673252,-0.16935488836329057,-0.044324974361702005,0.0013499242421202526,0.1234472145295044,0.11712436956387241,-0.024809412524912082,-0.0738936237237869,0.06347120503578668,0.028409385401921592,-0.005383124573183925,0.017704500596540645,0.03507829159733708,-0.06702628397904264,-0.032410383575742614,0.08647303393151198,-0.0010484331139677039,-0.033847407162748436,-0.0020036294568285557,0.009557459573687832,0.02599247370282389,-0.0035865878027578285,0.024010089447033,-0.014171422404174,-0.03626945975783772,0.07710970292468082,-0.08898496035423445,-0.06753662900043267,0.04296339373557454,0.04403033757890192,0.040903389247144366,-0.028788837491073176,0.007358889775230127,-0.024268770040962343,0.17152365430614405,-0.12841726671607298,-0.1407639349127743,-0.1944199404430884,-0.08570561044409086,0.048229790334524694,-0.0026928165523313324,0.07315505506719713,-0.13151849181821676,0.010512460470624164,-0.14543117825066615,-0.1115522886510546,0.06627294845803222,0.04558964266468913,0.04712401180857901,-0.09445987630346327,0.012421457651436079,0.05602295190220777,0.03971602403782623,0.08175212210407475,-0.0457745014511374,-0.052252170001397355,-0.010259750231896455,-0.040446592776853876,-0.060340203814054916,0.00865427794639233,0.12352873318807554,0.08772726353679709,-0.08525673735208207,-0.05760111984560629,-0.09232657595098394,-0.048253247353891575,-0.01548003707699155,-0.11047551963692473,0.028043293669152473,-0.08727413335380955,0.008765680839302356,0.011928168027111333,-0.0271458158310946,-0.1511077387565575,-0.022431210695350368,0.10114649521313457,-0.05971030587899888,0.14986177883425647,0.08332458929658026,-0.07655882060695694,-0.04340855652412812,-0.021870656609577432,-0.049840166089353335,0.022847813847422894,-0.0348153545528708,-0.04637763747363913,-0.007750558996100365,-0.0948687724469605,-0.09155384100502384,-0.05821256958221934,-0.11274864530739935,-0.009374003934793342,0.07268906964170918,0.13026973862280322,-0.032622644906425705,0.16196738208433403,-0.019203896812917894,-0.003654365098113619,0.050007406196703984,0.06872159384319707,-0.02033614512758254,-0.0029388134870546867,-0.16103571201599368,0.009576640510302332,0.11470188040968955,-0.029108704624930815,-0.0546595865540976,-0.1864874115391726,0.12925637212734523,-0.03280148462958215,-0.13303956056641222,0.02798375802087532,0.13016236199074718,-0.08598226272659491,-0.022274234332668518,-0.09042631623592373,-0.11907214775578157,-0.0713920139759101,0.09743629860708965,0.06350609284748093,-0.003237532381954449,-0.2082286016372078,-0.09699202773952523,-0.05950520810512936,0.01873445530876266,-0.11061920684684405,0.21365500335548543,-0.054253078818143306,-0.057023167497338274,-0.029710534962963234,-0.12472897611744203,0.21657995861908133,-0.08948649204805152,-0.28063725231377784,-0.041974032195408496,0.021529030804687422,0.047462780563693074,0.03092269998623841,0.07779122846821135,0.05325943132457168,0.07518833124398643,-0.06938577701655486,0.060046513162947,-0.0011564651610199293,0.08206364309914312,0.0007745157027617339,-0.016473824984678982,0.02682808436355918,0.07007820156883697,-0.025562606775181376,0.007600250034003047,0.16022433339586087,0.15018593717893128,-0.1266193686874372,-0.15687679076549227,-0.05566350992170718,-0.06492563021716963,-0.0303951595612498,-0.04815727920982503,-0.0449162915265594,-0.03513077150764874,-0.058639437081227486,0.05596929340757506,-0.1195582098836105,0.10601530063224643,0.00038903387183100425,-0.03058259190398215,0.03719645685166433,0.06750235262540685,-0.11141134477534868,-0.03984836764711805,-0.052391316081912956,0.030597562043651105,0.010615932834616496,-0.0470380047715694,-0.0990134829319394,0.09545550842037691,0.041435367920837525,0.044262410040878934,0.08341843437060376,-0.05826899293182463,0.03096246528822173,-0.017226473328218618,0.021155556845656284,-0.14543803146877443,0.2675014120530844,-0.17221616566637207,-0.012327476967321751,0.11205551024339531,0.23041678573299054,-0.0014514690758267717,0.06412663084951972,0.1646163964654389,-0.04388208507998803,0.03597924667931473,0.057920818214837924,-0.0846759670940136,-0.021923263235142397,-0.0656401227420964,-0.033673092271597135,-0.20510794611156305,-0.03353812227736256,0.025229277674371556,-0.17439080477327532,-0.017094757434528176,-0.016199822290063712,-0.0679063631768653,-0.13832332033306438,0.2278033633516103,-0.00016073114544679225,0.07266797038914113,0.09357243203825664,0.0685367198920194,-0.007239187959235814,-0.02348709784346506,-0.0029620573700935384,0.16879698150008332,-0.013201529260823292,0.14188391283006593,-0.17238789965224988,0.053025324082138385,0.03570650903248464,-0.0428139740361092,-0.0036371118634200526,0.23344460470317552,0.20777752582933953,0.06005447008362927,-0.1306204482696027,-0.02498199356614921,0.060594259751894704,-0.039690852554506634,-0.03518858177238205,0.23767359841947194,-0.1959673009428486,0.03554295150909857,0.18231415331713013,0.05048919612441039,0.051762047591218927,0.04484297804065058,-0.009345804740894791,0.023007924353265357,0.08835504386452006,-0.08907774392769503,0.028108543201296098,0.32388072929232414,0.07049949538342609,-0.03374683257383709,-0.03771548905734076,0.1251664291081319,0.014951967149149079,-0.10959145043689707,-0.07804547208388495,-0.17400574846747907,-0.08505848996378924,0.093087736466323,0.1377038634384282,-0.01916281950070619,-0.1510803457462205,-0.03443246373764406,-0.09566516349770045,-0.0011128398382834095,0.03890855308828556,0.01521220885648103,0.13924614449432046,-0.04130209732864124,-0.04772166722878643,0.07104425287635566,0.07797406116931009,0.06157040757969156,-0.04346297161981442,-0.003158264568516568,-0.09856412545419542,-0.054283831034933804,-0.0067310711434541886,-0.12456695982523926,0.06569403703850786,-0.05767649477136125,-0.021448534368552753,0.09996828934934318,-0.12260377413513754,-0.03995226955833077,0.04645031297500361,0.09578326428200694,-0.018090773208802004,0.1268203555607623,0.06002784306314753,-0.057154936220704625,-0.18888092913599794,0.03524936872410566,-0.00647647874697038,-0.07778605835682835,0.022386374824339448,-0.054939920582184915,0.11638569203120096,0.03426677101122489,0.09743101886335646,-0.09867035041393274,-0.03012918111417033,-0.009087576597735781],\"yaxis\":\"y\",\"type\":\"scatter\"}],                        {\"template\":{\"data\":{\"bar\":[{\"error_x\":{\"color\":\"#2a3f5f\"},\"error_y\":{\"color\":\"#2a3f5f\"},\"marker\":{\"line\":{\"color\":\"#E5ECF6\",\"width\":0.5},\"pattern\":{\"fillmode\":\"overlay\",\"size\":10,\"solidity\":0.2}},\"type\":\"bar\"}],\"barpolar\":[{\"marker\":{\"line\":{\"color\":\"#E5ECF6\",\"width\":0.5},\"pattern\":{\"fillmode\":\"overlay\",\"size\":10,\"solidity\":0.2}},\"type\":\"barpolar\"}],\"carpet\":[{\"aaxis\":{\"endlinecolor\":\"#2a3f5f\",\"gridcolor\":\"white\",\"linecolor\":\"white\",\"minorgridcolor\":\"white\",\"startlinecolor\":\"#2a3f5f\"},\"baxis\":{\"endlinecolor\":\"#2a3f5f\",\"gridcolor\":\"white\",\"linecolor\":\"white\",\"minorgridcolor\":\"white\",\"startlinecolor\":\"#2a3f5f\"},\"type\":\"carpet\"}],\"choropleth\":[{\"colorbar\":{\"outlinewidth\":0,\"ticks\":\"\"},\"type\":\"choropleth\"}],\"contour\":[{\"colorbar\":{\"outlinewidth\":0,\"ticks\":\"\"},\"colorscale\":[[0.0,\"#0d0887\"],[0.1111111111111111,\"#46039f\"],[0.2222222222222222,\"#7201a8\"],[0.3333333333333333,\"#9c179e\"],[0.4444444444444444,\"#bd3786\"],[0.5555555555555556,\"#d8576b\"],[0.6666666666666666,\"#ed7953\"],[0.7777777777777778,\"#fb9f3a\"],[0.8888888888888888,\"#fdca26\"],[1.0,\"#f0f921\"]],\"type\":\"contour\"}],\"contourcarpet\":[{\"colorbar\":{\"outlinewidth\":0,\"ticks\":\"\"},\"type\":\"contourcarpet\"}],\"heatmap\":[{\"colorbar\":{\"outlinewidth\":0,\"ticks\":\"\"},\"colorscale\":[[0.0,\"#0d0887\"],[0.1111111111111111,\"#46039f\"],[0.2222222222222222,\"#7201a8\"],[0.3333333333333333,\"#9c179e\"],[0.4444444444444444,\"#bd3786\"],[0.5555555555555556,\"#d8576b\"],[0.6666666666666666,\"#ed7953\"],[0.7777777777777778,\"#fb9f3a\"],[0.8888888888888888,\"#fdca26\"],[1.0,\"#f0f921\"]],\"type\":\"heatmap\"}],\"heatmapgl\":[{\"colorbar\":{\"outlinewidth\":0,\"ticks\":\"\"},\"colorscale\":[[0.0,\"#0d0887\"],[0.1111111111111111,\"#46039f\"],[0.2222222222222222,\"#7201a8\"],[0.3333333333333333,\"#9c179e\"],[0.4444444444444444,\"#bd3786\"],[0.5555555555555556,\"#d8576b\"],[0.6666666666666666,\"#ed7953\"],[0.7777777777777778,\"#fb9f3a\"],[0.8888888888888888,\"#fdca26\"],[1.0,\"#f0f921\"]],\"type\":\"heatmapgl\"}],\"histogram\":[{\"marker\":{\"pattern\":{\"fillmode\":\"overlay\",\"size\":10,\"solidity\":0.2}},\"type\":\"histogram\"}],\"histogram2d\":[{\"colorbar\":{\"outlinewidth\":0,\"ticks\":\"\"},\"colorscale\":[[0.0,\"#0d0887\"],[0.1111111111111111,\"#46039f\"],[0.2222222222222222,\"#7201a8\"],[0.3333333333333333,\"#9c179e\"],[0.4444444444444444,\"#bd3786\"],[0.5555555555555556,\"#d8576b\"],[0.6666666666666666,\"#ed7953\"],[0.7777777777777778,\"#fb9f3a\"],[0.8888888888888888,\"#fdca26\"],[1.0,\"#f0f921\"]],\"type\":\"histogram2d\"}],\"histogram2dcontour\":[{\"colorbar\":{\"outlinewidth\":0,\"ticks\":\"\"},\"colorscale\":[[0.0,\"#0d0887\"],[0.1111111111111111,\"#46039f\"],[0.2222222222222222,\"#7201a8\"],[0.3333333333333333,\"#9c179e\"],[0.4444444444444444,\"#bd3786\"],[0.5555555555555556,\"#d8576b\"],[0.6666666666666666,\"#ed7953\"],[0.7777777777777778,\"#fb9f3a\"],[0.8888888888888888,\"#fdca26\"],[1.0,\"#f0f921\"]],\"type\":\"histogram2dcontour\"}],\"mesh3d\":[{\"colorbar\":{\"outlinewidth\":0,\"ticks\":\"\"},\"type\":\"mesh3d\"}],\"parcoords\":[{\"line\":{\"colorbar\":{\"outlinewidth\":0,\"ticks\":\"\"}},\"type\":\"parcoords\"}],\"pie\":[{\"automargin\":true,\"type\":\"pie\"}],\"scatter\":[{\"marker\":{\"colorbar\":{\"outlinewidth\":0,\"ticks\":\"\"}},\"type\":\"scatter\"}],\"scatter3d\":[{\"line\":{\"colorbar\":{\"outlinewidth\":0,\"ticks\":\"\"}},\"marker\":{\"colorbar\":{\"outlinewidth\":0,\"ticks\":\"\"}},\"type\":\"scatter3d\"}],\"scattercarpet\":[{\"marker\":{\"colorbar\":{\"outlinewidth\":0,\"ticks\":\"\"}},\"type\":\"scattercarpet\"}],\"scattergeo\":[{\"marker\":{\"colorbar\":{\"outlinewidth\":0,\"ticks\":\"\"}},\"type\":\"scattergeo\"}],\"scattergl\":[{\"marker\":{\"colorbar\":{\"outlinewidth\":0,\"ticks\":\"\"}},\"type\":\"scattergl\"}],\"scattermapbox\":[{\"marker\":{\"colorbar\":{\"outlinewidth\":0,\"ticks\":\"\"}},\"type\":\"scattermapbox\"}],\"scatterpolar\":[{\"marker\":{\"colorbar\":{\"outlinewidth\":0,\"ticks\":\"\"}},\"type\":\"scatterpolar\"}],\"scatterpolargl\":[{\"marker\":{\"colorbar\":{\"outlinewidth\":0,\"ticks\":\"\"}},\"type\":\"scatterpolargl\"}],\"scatterternary\":[{\"marker\":{\"colorbar\":{\"outlinewidth\":0,\"ticks\":\"\"}},\"type\":\"scatterternary\"}],\"surface\":[{\"colorbar\":{\"outlinewidth\":0,\"ticks\":\"\"},\"colorscale\":[[0.0,\"#0d0887\"],[0.1111111111111111,\"#46039f\"],[0.2222222222222222,\"#7201a8\"],[0.3333333333333333,\"#9c179e\"],[0.4444444444444444,\"#bd3786\"],[0.5555555555555556,\"#d8576b\"],[0.6666666666666666,\"#ed7953\"],[0.7777777777777778,\"#fb9f3a\"],[0.8888888888888888,\"#fdca26\"],[1.0,\"#f0f921\"]],\"type\":\"surface\"}],\"table\":[{\"cells\":{\"fill\":{\"color\":\"#EBF0F8\"},\"line\":{\"color\":\"white\"}},\"header\":{\"fill\":{\"color\":\"#C8D4E3\"},\"line\":{\"color\":\"white\"}},\"type\":\"table\"}]},\"layout\":{\"annotationdefaults\":{\"arrowcolor\":\"#2a3f5f\",\"arrowhead\":0,\"arrowwidth\":1},\"autotypenumbers\":\"strict\",\"coloraxis\":{\"colorbar\":{\"outlinewidth\":0,\"ticks\":\"\"}},\"colorscale\":{\"diverging\":[[0,\"#8e0152\"],[0.1,\"#c51b7d\"],[0.2,\"#de77ae\"],[0.3,\"#f1b6da\"],[0.4,\"#fde0ef\"],[0.5,\"#f7f7f7\"],[0.6,\"#e6f5d0\"],[0.7,\"#b8e186\"],[0.8,\"#7fbc41\"],[0.9,\"#4d9221\"],[1,\"#276419\"]],\"sequential\":[[0.0,\"#0d0887\"],[0.1111111111111111,\"#46039f\"],[0.2222222222222222,\"#7201a8\"],[0.3333333333333333,\"#9c179e\"],[0.4444444444444444,\"#bd3786\"],[0.5555555555555556,\"#d8576b\"],[0.6666666666666666,\"#ed7953\"],[0.7777777777777778,\"#fb9f3a\"],[0.8888888888888888,\"#fdca26\"],[1.0,\"#f0f921\"]],\"sequentialminus\":[[0.0,\"#0d0887\"],[0.1111111111111111,\"#46039f\"],[0.2222222222222222,\"#7201a8\"],[0.3333333333333333,\"#9c179e\"],[0.4444444444444444,\"#bd3786\"],[0.5555555555555556,\"#d8576b\"],[0.6666666666666666,\"#ed7953\"],[0.7777777777777778,\"#fb9f3a\"],[0.8888888888888888,\"#fdca26\"],[1.0,\"#f0f921\"]]},\"colorway\":[\"#636efa\",\"#EF553B\",\"#00cc96\",\"#ab63fa\",\"#FFA15A\",\"#19d3f3\",\"#FF6692\",\"#B6E880\",\"#FF97FF\",\"#FECB52\"],\"font\":{\"color\":\"#2a3f5f\"},\"geo\":{\"bgcolor\":\"white\",\"lakecolor\":\"white\",\"landcolor\":\"#E5ECF6\",\"showlakes\":true,\"showland\":true,\"subunitcolor\":\"white\"},\"hoverlabel\":{\"align\":\"left\"},\"hovermode\":\"closest\",\"mapbox\":{\"style\":\"light\"},\"paper_bgcolor\":\"white\",\"plot_bgcolor\":\"#E5ECF6\",\"polar\":{\"angularaxis\":{\"gridcolor\":\"white\",\"linecolor\":\"white\",\"ticks\":\"\"},\"bgcolor\":\"#E5ECF6\",\"radialaxis\":{\"gridcolor\":\"white\",\"linecolor\":\"white\",\"ticks\":\"\"}},\"scene\":{\"xaxis\":{\"backgroundcolor\":\"#E5ECF6\",\"gridcolor\":\"white\",\"gridwidth\":2,\"linecolor\":\"white\",\"showbackground\":true,\"ticks\":\"\",\"zerolinecolor\":\"white\"},\"yaxis\":{\"backgroundcolor\":\"#E5ECF6\",\"gridcolor\":\"white\",\"gridwidth\":2,\"linecolor\":\"white\",\"showbackground\":true,\"ticks\":\"\",\"zerolinecolor\":\"white\"},\"zaxis\":{\"backgroundcolor\":\"#E5ECF6\",\"gridcolor\":\"white\",\"gridwidth\":2,\"linecolor\":\"white\",\"showbackground\":true,\"ticks\":\"\",\"zerolinecolor\":\"white\"}},\"shapedefaults\":{\"line\":{\"color\":\"#2a3f5f\"}},\"ternary\":{\"aaxis\":{\"gridcolor\":\"white\",\"linecolor\":\"white\",\"ticks\":\"\"},\"baxis\":{\"gridcolor\":\"white\",\"linecolor\":\"white\",\"ticks\":\"\"},\"bgcolor\":\"#E5ECF6\",\"caxis\":{\"gridcolor\":\"white\",\"linecolor\":\"white\",\"ticks\":\"\"}},\"title\":{\"x\":0.05},\"xaxis\":{\"automargin\":true,\"gridcolor\":\"white\",\"linecolor\":\"white\",\"ticks\":\"\",\"title\":{\"standoff\":15},\"zerolinecolor\":\"white\",\"zerolinewidth\":2},\"yaxis\":{\"automargin\":true,\"gridcolor\":\"white\",\"linecolor\":\"white\",\"ticks\":\"\",\"title\":{\"standoff\":15},\"zerolinecolor\":\"white\",\"zerolinewidth\":2}}},\"xaxis\":{\"anchor\":\"y\",\"domain\":[0.0,1.0],\"title\":{\"text\":\"0\"}},\"yaxis\":{\"anchor\":\"x\",\"domain\":[0.0,1.0],\"title\":{\"text\":\"1\"}},\"coloraxis\":{\"colorbar\":{\"title\":{\"text\":\"color\"}},\"colorscale\":[[0.0,\"#0d0887\"],[0.1111111111111111,\"#46039f\"],[0.2222222222222222,\"#7201a8\"],[0.3333333333333333,\"#9c179e\"],[0.4444444444444444,\"#bd3786\"],[0.5555555555555556,\"#d8576b\"],[0.6666666666666666,\"#ed7953\"],[0.7777777777777778,\"#fb9f3a\"],[0.8888888888888888,\"#fdca26\"],[1.0,\"#f0f921\"]]},\"legend\":{\"tracegroupgap\":0},\"margin\":{\"t\":60}},                        {\"responsive\": true}                    ).then(function(){\n                            \nvar gd = document.getElementById('f4803cd4-c18d-4890-8e66-982cffba8e98');\nvar x = new MutationObserver(function (mutations, observer) {{\n        var display = window.getComputedStyle(gd).display;\n        if (!display || display === 'none') {{\n            console.log([gd, 'removed!']);\n            Plotly.purge(gd);\n            observer.disconnect();\n        }}\n}});\n\n// Listen for the removal of the full notebook cells\nvar notebookContainer = gd.closest('#notebook-container');\nif (notebookContainer) {{\n    x.observe(notebookContainer, {childList: true});\n}}\n\n// Listen for the clearing of the current output cell\nvar outputEl = gd.closest('.output');\nif (outputEl) {{\n    x.observe(outputEl, {childList: true});\n}}\n\n                        })                };                });            </script>        </div>"
     },
     "metadata": {},
     "output_type": "display_data"
    },
    {
     "data": {
      "application/vnd.plotly.v1+json": {
       "data": [
        {
         "hovertemplate": "0=%{x}<br>1=%{y}<br>color=%{marker.color}<extra></extra>",
         "legendgroup": "",
         "marker": {
          "color": [
           0,
           1,
           0,
           0,
           0,
           1,
           1,
           0,
           0,
           0,
           0,
           1,
           0,
           1,
           1,
           1,
           0,
           1,
           0,
           0,
           1,
           0,
           1,
           1,
           0,
           1,
           1,
           1,
           0,
           0,
           1,
           1,
           0,
           1,
           0,
           1,
           0,
           1,
           1,
           0,
           1,
           0,
           0,
           0,
           0,
           1,
           0,
           0,
           1,
           0,
           1,
           1,
           1,
           1,
           0,
           1,
           1,
           1,
           0,
           1,
           1,
           0,
           0,
           1,
           0,
           1,
           0,
           1,
           0,
           0,
           0,
           0,
           1,
           0,
           1,
           0,
           1,
           1,
           0,
           1,
           0,
           0,
           1,
           1,
           0,
           0,
           1,
           0,
           0,
           0,
           0,
           0,
           1,
           1,
           0,
           0,
           1,
           0,
           0,
           1,
           0,
           1,
           1,
           0,
           1,
           0,
           0,
           1,
           0,
           0,
           0,
           1,
           0,
           0,
           0,
           0,
           1,
           1,
           1,
           1,
           1,
           0,
           1,
           0,
           1,
           1,
           0,
           0,
           1,
           0,
           0,
           0,
           1,
           0,
           0,
           1,
           0,
           0,
           0,
           1,
           0,
           0,
           1,
           1,
           0,
           0,
           1,
           0,
           0,
           1,
           1,
           1,
           0,
           1,
           1,
           0,
           0,
           0,
           1,
           1,
           1,
           0,
           0,
           1,
           1,
           0,
           0,
           1,
           1,
           1,
           0,
           0,
           0,
           0,
           1,
           0,
           1,
           1,
           1,
           1,
           0,
           1,
           0,
           1,
           1,
           0,
           1,
           1,
           0,
           1,
           0,
           0,
           0,
           1,
           0,
           1,
           0,
           0,
           0,
           0,
           1,
           1,
           1,
           0,
           0,
           0,
           0,
           1,
           1,
           0,
           0,
           1,
           1,
           0,
           0,
           0,
           1,
           0,
           1,
           0,
           1,
           1,
           0,
           1,
           0,
           1,
           1,
           1,
           0,
           0,
           1,
           1,
           1,
           1,
           1,
           1,
           1,
           1,
           1,
           0,
           0,
           1,
           0,
           1,
           1,
           0,
           0,
           1,
           1,
           0,
           1,
           0,
           0,
           1,
           1,
           0,
           1,
           1,
           1,
           1,
           0,
           1,
           1,
           0,
           1,
           0,
           1,
           1,
           1,
           1,
           0,
           0,
           1,
           0,
           1,
           0,
           1,
           0,
           0,
           1,
           1,
           1,
           1,
           0,
           0,
           0,
           1,
           1,
           0,
           1,
           1,
           0,
           1,
           0,
           0,
           0,
           1,
           1,
           0,
           0,
           0,
           1,
           1,
           1,
           0,
           0,
           1,
           1,
           0,
           1,
           1,
           0,
           0,
           0,
           1,
           1,
           0,
           1,
           1,
           0,
           1,
           1,
           1,
           1,
           0,
           0,
           1,
           0,
           0,
           1,
           0,
           0,
           1,
           1,
           0,
           0,
           0,
           1,
           0,
           0,
           1,
           1,
           1,
           1,
           0,
           1,
           1,
           1,
           0,
           0,
           0,
           0,
           0,
           0,
           1,
           0,
           0,
           1,
           1,
           0,
           1,
           1,
           1,
           1,
           1,
           0,
           1,
           0,
           0,
           1,
           1,
           0,
           1,
           0,
           1,
           1,
           1,
           1,
           1,
           1,
           0,
           0,
           0,
           0,
           0,
           0,
           1,
           0,
           0,
           1,
           0,
           0,
           0,
           1,
           0,
           0,
           1,
           0,
           0,
           1
          ],
          "coloraxis": "coloraxis",
          "symbol": "circle"
         },
         "mode": "markers",
         "name": "",
         "orientation": "v",
         "showlegend": false,
         "x": [
          22.219642639160156,
          -1.520627498626709,
          -0.9291790127754211,
          -7.8124494552612305,
          14.648590087890625,
          -7.556350231170654,
          5.773947238922119,
          -8.426653861999512,
          18.57994842529297,
          -4.761493682861328,
          -0.8363440036773682,
          8.603523254394531,
          -6.01712703704834,
          -12.952024459838867,
          -13.913286209106445,
          3.429292917251587,
          7.675832748413086,
          -7.04208517074585,
          0.058171119540929794,
          -2.931084156036377,
          6.012284278869629,
          -0.6324898600578308,
          8.937708854675293,
          -4.757903099060059,
          -15.358163833618164,
          16.106895446777344,
          18.027807235717773,
          4.150757312774658,
          -4.06168794631958,
          -3.453230142593384,
          -4.510044574737549,
          -6.301792144775391,
          -16.78451919555664,
          -4.369818687438965,
          22.965579986572266,
          -0.4451057016849518,
          -8.555787086486816,
          6.0982136726379395,
          -13.078011512756348,
          -17.893089294433594,
          -1.3509725332260132,
          -17.71129035949707,
          -12.92206859588623,
          22.095645904541016,
          -7.548639297485352,
          -18.525516510009766,
          10.997389793395996,
          -22.976696014404297,
          2.2851884365081787,
          -10.16734790802002,
          -3.5364444255828857,
          10.525747299194336,
          1.7674895524978638,
          5.693447589874268,
          5.14236307144165,
          19.478878021240234,
          15.892290115356445,
          2.7555503845214844,
          -7.445189476013184,
          -2.4356460571289062,
          10.638519287109375,
          7.013152599334717,
          8.998461723327637,
          8.356579780578613,
          0.21706049144268036,
          1.8446542024612427,
          -7.478915214538574,
          -14.84511947631836,
          -13.245874404907227,
          -5.816481113433838,
          -3.0595741271972656,
          -6.998819828033447,
          10.975763320922852,
          5.008086681365967,
          2.5965285301208496,
          14.747601509094238,
          -4.63286018371582,
          -7.559514999389648,
          -11.586821556091309,
          9.73914909362793,
          8.338749885559082,
          2.7584636211395264,
          -3.7414238452911377,
          -25.704578399658203,
          10.018101692199707,
          -0.695453941822052,
          13.07600212097168,
          16.9534912109375,
          -14.537527084350586,
          6.187292098999023,
          22.263811111450195,
          6.050137996673584,
          9.377480506896973,
          20.24785041809082,
          -5.631645202636719,
          10.807317733764648,
          -19.220355987548828,
          2.123018741607666,
          -14.830248832702637,
          20.556318283081055,
          -5.545924186706543,
          -1.356173038482666,
          12.723617553710938,
          13.417652130126953,
          -19.66879653930664,
          23.766637802124023,
          8.525765419006348,
          8.373479843139648,
          -1.812209129333496,
          4.81541109085083,
          7.634180068969727,
          4.5777106285095215,
          -3.373976230621338,
          -7.549147605895996,
          -21.290231704711914,
          -10.502363204956055,
          13.014769554138184,
          -17.649097442626953,
          7.938172340393066,
          -21.73764991760254,
          25.045133590698242,
          3.6478917598724365,
          6.229818820953369,
          -6.760500431060791,
          -26.601598739624023,
          -7.633402347564697,
          6.786657333374023,
          -14.486651420593262,
          17.499723434448242,
          -11.936253547668457,
          11.80529499053955,
          20.212215423583984,
          17.91324806213379,
          -5.895853519439697,
          -17.11000633239746,
          9.20794677734375,
          -14.564349174499512,
          -18.012344360351562,
          18.737918853759766,
          6.468363285064697,
          -11.299213409423828,
          -11.336444854736328,
          6.171704292297363,
          -2.6548163890838623,
          -19.425336837768555,
          -3.995361089706421,
          14.042298316955566,
          -7.3872904777526855,
          4.777563095092773,
          5.279047012329102,
          -16.7242488861084,
          8.546480178833008,
          -4.986085414886475,
          3.009089946746826,
          19.814590454101562,
          -1.9828927516937256,
          -8.978558540344238,
          12.439878463745117,
          13.38453483581543,
          2.2265708446502686,
          6.260937213897705,
          7.134405136108398,
          -2.6243906021118164,
          12.825937271118164,
          2.0853331089019775,
          -11.95025634765625,
          -10.796380043029785,
          2.460317850112915,
          -18.938222885131836,
          -4.6841816902160645,
          -14.168060302734375,
          -2.878999710083008,
          -2.6091341972351074,
          21.007505416870117,
          -3.0454957485198975,
          -18.938493728637695,
          20.42298126220703,
          23.208446502685547,
          -8.477932929992676,
          24.563642501831055,
          -24.52712631225586,
          18.758861541748047,
          1.0153329372406006,
          -4.795111656188965,
          -9.133452415466309,
          -2.3344576358795166,
          -14.236363410949707,
          -5.6287994384765625,
          -13.233853340148926,
          15.138208389282227,
          16.897340774536133,
          -2.990990161895752,
          -18.4985408782959,
          3.838886260986328,
          19.913644790649414,
          23.211814880371094,
          -1.4502403736114502,
          6.745234966278076,
          2.272803783416748,
          19.38923454284668,
          6.670293807983398,
          19.810760498046875,
          -3.746295928955078,
          -10.552016258239746,
          1.382788062095642,
          12.623502731323242,
          -5.036776542663574,
          -10.561192512512207,
          18.02729034423828,
          -9.767354965209961,
          -8.315912246704102,
          16.216472625732422,
          2.6971662044525146,
          -8.78327751159668,
          18.504539489746094,
          -6.201533317565918,
          -21.408597946166992,
          17.860919952392578,
          0.019397443160414696,
          -1.9168559312820435,
          5.08148717880249,
          5.422338008880615,
          -16.953235626220703,
          15.020157814025879,
          -11.850245475769043,
          -7.660150051116943,
          -16.37442970275879,
          8.641653060913086,
          26.059879302978516,
          -11.979599952697754,
          1.9981403350830078,
          0.060831937938928604,
          6.6343674659729,
          -11.248547554016113,
          -15.24770736694336,
          17.759340286254883,
          3.1495277881622314,
          18.159961700439453,
          11.71453857421875,
          -11.059542655944824,
          -9.47890567779541,
          17.99298095703125,
          2.0180890560150146,
          2.115152597427368,
          3.4824891090393066,
          -18.573301315307617,
          -2.1855788230895996,
          4.883073329925537,
          -22.343576431274414,
          11.889509201049805,
          4.15712833404541,
          9.860587120056152,
          9.897550582885742,
          10.507131576538086,
          -15.312891006469727,
          0.8745869994163513,
          -10.856740951538086,
          13.45362663269043,
          16.9849910736084,
          -1.5175480842590332,
          10.015939712524414,
          1.806361436843872,
          -26.007150650024414,
          -0.2628300189971924,
          14.39661693572998,
          14.651476860046387,
          4.293879508972168,
          -22.912887573242188,
          0.3642575740814209,
          12.39678955078125,
          -14.534722328186035,
          10.888586044311523,
          -6.208256721496582,
          7.342799186706543,
          15.136055946350098,
          14.354358673095703,
          -1.7215293645858765,
          4.362888813018799,
          -0.5109112858772278,
          0.28432878851890564,
          5.499186992645264,
          -0.6727170944213867,
          3.929685592651367,
          6.6091485023498535,
          -4.38542366027832,
          -4.440017223358154,
          6.781626224517822,
          0.186218723654747,
          7.743511199951172,
          -8.94848346710205,
          12.146221160888672,
          -23.71955680847168,
          8.74028491973877,
          17.50117301940918,
          -14.076797485351562,
          -19.0898494720459,
          13.0447998046875,
          -11.903520584106445,
          -17.44171714782715,
          -18.852022171020508,
          -2.2077014446258545,
          -2.6663026809692383,
          -13.941235542297363,
          7.182709217071533,
          -18.516979217529297,
          -7.064547538757324,
          -12.24229907989502,
          14.800260543823242,
          7.794330596923828,
          9.19876480102539,
          -22.49687957763672,
          23.310922622680664,
          -14.380152702331543,
          12.791196823120117,
          -13.346321105957031,
          -6.951572418212891,
          -7.111536502838135,
          4.6004557609558105,
          19.44968605041504,
          3.251176118850708,
          16.249011993408203,
          -8.261220932006836,
          -3.9816172122955322,
          -0.33529603481292725,
          11.965456008911133,
          8.298093795776367,
          8.622991561889648,
          -11.162452697753906,
          17.998197555541992,
          -16.249889373779297,
          -7.767714500427246,
          15.923189163208008,
          12.32500171661377,
          -8.298626899719238,
          -15.400094032287598,
          0.8677170872688293,
          8.052120208740234,
          -15.36841869354248,
          14.473784446716309,
          -0.2568056583404541,
          9.421716690063477,
          -23.08442497253418,
          9.893763542175293,
          13.250852584838867,
          -20.704885482788086,
          7.787756443023682,
          6.572024345397949,
          -15.930032730102539,
          -13.588305473327637,
          21.12629508972168,
          11.990640640258789,
          -1.95419180393219,
          -17.037479400634766,
          -14.572633743286133,
          1.4633904695510864,
          10.737326622009277,
          7.160992622375488,
          -18.261703491210938,
          6.791543483734131,
          -8.927094459533691,
          15.837166786193848,
          -7.114138126373291,
          12.91033935546875,
          -15.970104217529297,
          6.795589923858643,
          -5.513859272003174,
          16.25642967224121,
          -2.950960636138916,
          21.70258903503418,
          2.174252986907959,
          -11.30213451385498,
          1.0366063117980957,
          -6.834278106689453,
          -9.520235061645508,
          13.245766639709473,
          15.795310020446777,
          10.730321884155273,
          -23.660200119018555,
          12.809428215026855,
          -15.474202156066895,
          -2.4125771522521973,
          -10.281733512878418,
          -4.562363624572754,
          10.859716415405273,
          19.744312286376953,
          -8.032337188720703,
          3.006117820739746,
          -3.004514694213867,
          2.089759588241577,
          1.5449671745300293,
          6.549803733825684,
          -1.1381282806396484,
          -10.004833221435547,
          4.308045864105225,
          3.1722617149353027,
          -4.833697319030762,
          3.544205665588379,
          -4.510003566741943,
          -0.33237865567207336,
          -20.400903701782227
         ],
         "xaxis": "x",
         "y": [
          9.184120178222656,
          -20.709453582763672,
          -17.101518630981445,
          -6.526732444763184,
          12.891288757324219,
          -10.964394569396973,
          -7.738415718078613,
          -14.956819534301758,
          -18.04042625427246,
          -8.289896965026855,
          -11.199590682983398,
          0.9978771209716797,
          15.339897155761719,
          18.186809539794922,
          12.99144458770752,
          -13.201817512512207,
          -1.8183138370513916,
          2.715082883834839,
          -3.222466230392456,
          -14.043903350830078,
          -7.259415149688721,
          5.92138671875,
          -3.7071075439453125,
          4.450240135192871,
          14.991229057312012,
          4.274742126464844,
          3.636929750442505,
          2.3030893802642822,
          11.297234535217285,
          -5.375151634216309,
          3.544107675552368,
          13.87279987335205,
          -12.41366958618164,
          -2.359208583831787,
          5.398472309112549,
          -17.12408447265625,
          2.9406442642211914,
          6.349793434143066,
          -8.301651954650879,
          4.8819475173950195,
          9.596846580505371,
          13.075419425964355,
          -4.054310321807861,
          6.030670166015625,
          -4.716121673583984,
          13.68078327178955,
          6.402249336242676,
          -3.034381151199341,
          10.649564743041992,
          11.752378463745117,
          14.168342590332031,
          4.129101276397705,
          1.6643290519714355,
          -10.300713539123535,
          -20.89411163330078,
          3.244971990585327,
          -8.394515037536621,
          16.17839813232422,
          -21.671327590942383,
          8.300909996032715,
          10.242378234863281,
          0.9939262270927429,
          -7.0410614013671875,
          10.346959114074707,
          4.027339935302734,
          -23.166791915893555,
          16.093198776245117,
          13.097503662109375,
          -11.327983856201172,
          -14.434195518493652,
          18.901180267333984,
          15.84659481048584,
          5.615034103393555,
          -4.562276840209961,
          23.280797958374023,
          1.154268741607666,
          -3.3663203716278076,
          20.490644454956055,
          -13.016194343566895,
          -17.991180419921875,
          -12.212370872497559,
          1.4402867555618286,
          -10.608936309814453,
          2.112623929977417,
          -20.355575561523438,
          13.71971321105957,
          -16.215246200561523,
          10.630218505859375,
          16.872594833374023,
          -16.85948371887207,
          -10.527742385864258,
          -1.7630531787872314,
          -16.466028213500977,
          0.39881208539009094,
          -6.113536834716797,
          10.878052711486816,
          18.083213806152344,
          16.712743759155273,
          -0.1848391592502594,
          -7.092548847198486,
          -8.32495403289795,
          -21.6429500579834,
          1.6310354471206665,
          -14.64033317565918,
          -0.27235159277915955,
          -5.161286354064941,
          6.400808811187744,
          16.70781135559082,
          14.310885429382324,
          9.267410278320312,
          11.012292861938477,
          -19.59532928466797,
          0.4761786460876465,
          -11.88676929473877,
          10.964546203613281,
          13.149264335632324,
          16.25542640686035,
          -10.949973106384277,
          19.04865264892578,
          11.099676132202148,
          -1.842340350151062,
          -18.5712890625,
          4.212863445281982,
          -5.413379192352295,
          0.24549543857574463,
          21.737882614135742,
          1.1160794496536255,
          7.177600860595703,
          -11.575414657592773,
          -11.941398620605469,
          -10.577239990234375,
          10.81075382232666,
          4.828634738922119,
          8.97647762298584,
          -9.761552810668945,
          -10.641122817993164,
          9.896421432495117,
          4.886230945587158,
          -14.199567794799805,
          11.22769832611084,
          3.435751438140869,
          -14.502321243286133,
          -16.10983657836914,
          10.241957664489746,
          19.29741668701172,
          -17.08116340637207,
          1.0732656717300415,
          19.6147518157959,
          -13.773285865783691,
          0.9085317254066467,
          -4.263394355773926,
          9.368300437927246,
          9.118756294250488,
          5.092925071716309,
          -2.623821496963501,
          23.78839111328125,
          7.499074935913086,
          -4.005831241607666,
          -3.450840473175049,
          -7.99090051651001,
          19.254276275634766,
          15.62004280090332,
          -3.7259621620178223,
          -7.741026401519775,
          10.719575881958008,
          -0.2159513384103775,
          -5.980130672454834,
          7.852684497833252,
          10.54088306427002,
          -1.8601059913635254,
          1.458020806312561,
          18.144376754760742,
          24.029836654663086,
          11.939266204833984,
          -14.455930709838867,
          0.4134484827518463,
          8.06626033782959,
          5.144586563110352,
          1.8941830396652222,
          -2.4074647426605225,
          3.663205862045288,
          2.4668421745300293,
          -7.309874534606934,
          24.24439239501953,
          -8.908092498779297,
          -12.10872745513916,
          20.267635345458984,
          24.008148193359375,
          4.3309807777404785,
          7.335058212280273,
          17.464895248413086,
          17.285987854003906,
          -6.467429161071777,
          23.418642044067383,
          -4.273537635803223,
          -9.233734130859375,
          -6.357011795043945,
          7.15970516204834,
          -13.455763816833496,
          -8.81461238861084,
          -11.287290573120117,
          3.2500967979431152,
          6.953763484954834,
          8.076583862304688,
          22.613630294799805,
          -7.8170485496521,
          6.205023288726807,
          -17.615171432495117,
          0.3154379427433014,
          -2.04416561126709,
          10.708645820617676,
          -0.6247790455818176,
          5.644721508026123,
          -0.4001709818840027,
          -13.65812873840332,
          -19.08332061767578,
          6.70198392868042,
          -1.5340584516525269,
          10.820817947387695,
          -6.639131546020508,
          18.98402976989746,
          11.62905216217041,
          13.718292236328125,
          -2.6204419136047363,
          14.988377571105957,
          0.5955773591995239,
          6.333717346191406,
          -9.140926361083984,
          -1.0760221481323242,
          5.840232849121094,
          -15.45075511932373,
          -10.72763729095459,
          -3.608503580093384,
          8.662457466125488,
          4.451014518737793,
          16.748933792114258,
          -5.864681720733643,
          -18.676103591918945,
          -5.015427589416504,
          -3.7118000984191895,
          3.563366174697876,
          -18.922985076904297,
          -18.35715103149414,
          -15.084883689880371,
          -2.5804226398468018,
          -6.3003950119018555,
          -9.394207954406738,
          -0.17558443546295166,
          3.94091534614563,
          -19.623891830444336,
          1.8687384128570557,
          6.930981636047363,
          -7.701598644256592,
          -0.6800965070724487,
          1.8515596389770508,
          1.2422101497650146,
          -2.3048312664031982,
          6.333642959594727,
          -10.755182266235352,
          4.540015697479248,
          3.1762731075286865,
          -5.241386413574219,
          1.5082862377166748,
          13.707469940185547,
          -3.692032814025879,
          -9.8580904006958,
          -18.764095306396484,
          4.832425594329834,
          -6.0374674797058105,
          6.715514659881592,
          6.96380090713501,
          7.014824867248535,
          0.2967935800552368,
          15.642675399780273,
          -4.764486789703369,
          9.341018676757812,
          -9.239669799804688,
          -2.793961524963379,
          4.62416934967041,
          23.24504852294922,
          -6.369108200073242,
          -13.385576248168945,
          16.213010787963867,
          24.835922241210938,
          -9.506643295288086,
          3.301452398300171,
          -8.333585739135742,
          -0.5158452987670898,
          -13.573139190673828,
          2.297245740890503,
          -13.149659156799316,
          6.129970073699951,
          17.867280960083008,
          9.710679054260254,
          19.70843505859375,
          -3.1367785930633545,
          19.16155433654785,
          3.96415114402771,
          -4.493520259857178,
          10.109712600708008,
          11.395217895507812,
          -11.30282211303711,
          -8.159817695617676,
          12.670969009399414,
          0.8755810260772705,
          9.567354202270508,
          -8.446680068969727,
          2.038492202758789,
          4.444084167480469,
          -4.147071838378906,
          5.214950084686279,
          -5.186087131500244,
          -0.9603338241577148,
          12.717443466186523,
          -4.176279544830322,
          -8.590761184692383,
          -17.95241355895996,
          -8.443276405334473,
          8.863028526306152,
          13.729201316833496,
          1.0726921558380127,
          -22.384517669677734,
          -7.088501453399658,
          9.100863456726074,
          1.8057796955108643,
          -11.302891731262207,
          -5.9960713386535645,
          13.854386329650879,
          -1.1031461954116821,
          -8.554203033447266,
          19.41930389404297,
          -5.063321590423584,
          -1.6481070518493652,
          -10.354796409606934,
          4.546833038330078,
          -10.196280479431152,
          -3.071035861968994,
          -16.59722328186035,
          8.6478853225708,
          18.428028106689453,
          22.849700927734375,
          -3.3071651458740234,
          -10.606480598449707,
          -0.06859470158815384,
          0.8833982944488525,
          -7.655340194702148,
          11.114545822143555,
          -11.814807891845703,
          18.179668426513672,
          -6.8647003173828125,
          -19.65614128112793,
          1.3950445652008057,
          11.955848693847656,
          9.862038612365723,
          -0.7344591021537781,
          -19.35610008239746,
          -4.953089237213135,
          -1.289196491241455,
          4.1519060134887695,
          -2.5566322803497314,
          4.187733173370361,
          -21.222736358642578,
          15.826136589050293,
          -16.990745544433594,
          -3.110966682434082,
          -13.724957466125488,
          18.054241180419922,
          -2.268505096435547,
          -6.430962085723877,
          6.824076175689697,
          -8.555474281311035,
          -7.988403797149658,
          -3.39874529838562,
          8.835843086242676,
          18.35457992553711,
          -9.185575485229492,
          -0.6569859385490417,
          4.703641414642334,
          -14.055305480957031,
          -0.48740825057029724,
          1.0639568567276,
          1.782854437828064,
          -24.443111419677734,
          13.808902740478516,
          0.36865371465682983,
          4.2683210372924805,
          -10.668835639953613,
          10.020854949951172,
          -5.08031702041626,
          21.035228729248047,
          24.739290237426758,
          -1.0047937631607056,
          -5.605693340301514,
          9.026411056518555,
          14.567691802978516,
          -24.13603401184082,
          -12.57975959777832,
          -11.810310363769531,
          -3.1548514366149902,
          14.840959548950195
         ],
         "yaxis": "y",
         "type": "scatter"
        }
       ],
       "layout": {
        "template": {
         "data": {
          "bar": [
           {
            "error_x": {
             "color": "#2a3f5f"
            },
            "error_y": {
             "color": "#2a3f5f"
            },
            "marker": {
             "line": {
              "color": "#E5ECF6",
              "width": 0.5
             },
             "pattern": {
              "fillmode": "overlay",
              "size": 10,
              "solidity": 0.2
             }
            },
            "type": "bar"
           }
          ],
          "barpolar": [
           {
            "marker": {
             "line": {
              "color": "#E5ECF6",
              "width": 0.5
             },
             "pattern": {
              "fillmode": "overlay",
              "size": 10,
              "solidity": 0.2
             }
            },
            "type": "barpolar"
           }
          ],
          "carpet": [
           {
            "aaxis": {
             "endlinecolor": "#2a3f5f",
             "gridcolor": "white",
             "linecolor": "white",
             "minorgridcolor": "white",
             "startlinecolor": "#2a3f5f"
            },
            "baxis": {
             "endlinecolor": "#2a3f5f",
             "gridcolor": "white",
             "linecolor": "white",
             "minorgridcolor": "white",
             "startlinecolor": "#2a3f5f"
            },
            "type": "carpet"
           }
          ],
          "choropleth": [
           {
            "colorbar": {
             "outlinewidth": 0,
             "ticks": ""
            },
            "type": "choropleth"
           }
          ],
          "contour": [
           {
            "colorbar": {
             "outlinewidth": 0,
             "ticks": ""
            },
            "colorscale": [
             [
              0.0,
              "#0d0887"
             ],
             [
              0.1111111111111111,
              "#46039f"
             ],
             [
              0.2222222222222222,
              "#7201a8"
             ],
             [
              0.3333333333333333,
              "#9c179e"
             ],
             [
              0.4444444444444444,
              "#bd3786"
             ],
             [
              0.5555555555555556,
              "#d8576b"
             ],
             [
              0.6666666666666666,
              "#ed7953"
             ],
             [
              0.7777777777777778,
              "#fb9f3a"
             ],
             [
              0.8888888888888888,
              "#fdca26"
             ],
             [
              1.0,
              "#f0f921"
             ]
            ],
            "type": "contour"
           }
          ],
          "contourcarpet": [
           {
            "colorbar": {
             "outlinewidth": 0,
             "ticks": ""
            },
            "type": "contourcarpet"
           }
          ],
          "heatmap": [
           {
            "colorbar": {
             "outlinewidth": 0,
             "ticks": ""
            },
            "colorscale": [
             [
              0.0,
              "#0d0887"
             ],
             [
              0.1111111111111111,
              "#46039f"
             ],
             [
              0.2222222222222222,
              "#7201a8"
             ],
             [
              0.3333333333333333,
              "#9c179e"
             ],
             [
              0.4444444444444444,
              "#bd3786"
             ],
             [
              0.5555555555555556,
              "#d8576b"
             ],
             [
              0.6666666666666666,
              "#ed7953"
             ],
             [
              0.7777777777777778,
              "#fb9f3a"
             ],
             [
              0.8888888888888888,
              "#fdca26"
             ],
             [
              1.0,
              "#f0f921"
             ]
            ],
            "type": "heatmap"
           }
          ],
          "heatmapgl": [
           {
            "colorbar": {
             "outlinewidth": 0,
             "ticks": ""
            },
            "colorscale": [
             [
              0.0,
              "#0d0887"
             ],
             [
              0.1111111111111111,
              "#46039f"
             ],
             [
              0.2222222222222222,
              "#7201a8"
             ],
             [
              0.3333333333333333,
              "#9c179e"
             ],
             [
              0.4444444444444444,
              "#bd3786"
             ],
             [
              0.5555555555555556,
              "#d8576b"
             ],
             [
              0.6666666666666666,
              "#ed7953"
             ],
             [
              0.7777777777777778,
              "#fb9f3a"
             ],
             [
              0.8888888888888888,
              "#fdca26"
             ],
             [
              1.0,
              "#f0f921"
             ]
            ],
            "type": "heatmapgl"
           }
          ],
          "histogram": [
           {
            "marker": {
             "pattern": {
              "fillmode": "overlay",
              "size": 10,
              "solidity": 0.2
             }
            },
            "type": "histogram"
           }
          ],
          "histogram2d": [
           {
            "colorbar": {
             "outlinewidth": 0,
             "ticks": ""
            },
            "colorscale": [
             [
              0.0,
              "#0d0887"
             ],
             [
              0.1111111111111111,
              "#46039f"
             ],
             [
              0.2222222222222222,
              "#7201a8"
             ],
             [
              0.3333333333333333,
              "#9c179e"
             ],
             [
              0.4444444444444444,
              "#bd3786"
             ],
             [
              0.5555555555555556,
              "#d8576b"
             ],
             [
              0.6666666666666666,
              "#ed7953"
             ],
             [
              0.7777777777777778,
              "#fb9f3a"
             ],
             [
              0.8888888888888888,
              "#fdca26"
             ],
             [
              1.0,
              "#f0f921"
             ]
            ],
            "type": "histogram2d"
           }
          ],
          "histogram2dcontour": [
           {
            "colorbar": {
             "outlinewidth": 0,
             "ticks": ""
            },
            "colorscale": [
             [
              0.0,
              "#0d0887"
             ],
             [
              0.1111111111111111,
              "#46039f"
             ],
             [
              0.2222222222222222,
              "#7201a8"
             ],
             [
              0.3333333333333333,
              "#9c179e"
             ],
             [
              0.4444444444444444,
              "#bd3786"
             ],
             [
              0.5555555555555556,
              "#d8576b"
             ],
             [
              0.6666666666666666,
              "#ed7953"
             ],
             [
              0.7777777777777778,
              "#fb9f3a"
             ],
             [
              0.8888888888888888,
              "#fdca26"
             ],
             [
              1.0,
              "#f0f921"
             ]
            ],
            "type": "histogram2dcontour"
           }
          ],
          "mesh3d": [
           {
            "colorbar": {
             "outlinewidth": 0,
             "ticks": ""
            },
            "type": "mesh3d"
           }
          ],
          "parcoords": [
           {
            "line": {
             "colorbar": {
              "outlinewidth": 0,
              "ticks": ""
             }
            },
            "type": "parcoords"
           }
          ],
          "pie": [
           {
            "automargin": true,
            "type": "pie"
           }
          ],
          "scatter": [
           {
            "marker": {
             "colorbar": {
              "outlinewidth": 0,
              "ticks": ""
             }
            },
            "type": "scatter"
           }
          ],
          "scatter3d": [
           {
            "line": {
             "colorbar": {
              "outlinewidth": 0,
              "ticks": ""
             }
            },
            "marker": {
             "colorbar": {
              "outlinewidth": 0,
              "ticks": ""
             }
            },
            "type": "scatter3d"
           }
          ],
          "scattercarpet": [
           {
            "marker": {
             "colorbar": {
              "outlinewidth": 0,
              "ticks": ""
             }
            },
            "type": "scattercarpet"
           }
          ],
          "scattergeo": [
           {
            "marker": {
             "colorbar": {
              "outlinewidth": 0,
              "ticks": ""
             }
            },
            "type": "scattergeo"
           }
          ],
          "scattergl": [
           {
            "marker": {
             "colorbar": {
              "outlinewidth": 0,
              "ticks": ""
             }
            },
            "type": "scattergl"
           }
          ],
          "scattermapbox": [
           {
            "marker": {
             "colorbar": {
              "outlinewidth": 0,
              "ticks": ""
             }
            },
            "type": "scattermapbox"
           }
          ],
          "scatterpolar": [
           {
            "marker": {
             "colorbar": {
              "outlinewidth": 0,
              "ticks": ""
             }
            },
            "type": "scatterpolar"
           }
          ],
          "scatterpolargl": [
           {
            "marker": {
             "colorbar": {
              "outlinewidth": 0,
              "ticks": ""
             }
            },
            "type": "scatterpolargl"
           }
          ],
          "scatterternary": [
           {
            "marker": {
             "colorbar": {
              "outlinewidth": 0,
              "ticks": ""
             }
            },
            "type": "scatterternary"
           }
          ],
          "surface": [
           {
            "colorbar": {
             "outlinewidth": 0,
             "ticks": ""
            },
            "colorscale": [
             [
              0.0,
              "#0d0887"
             ],
             [
              0.1111111111111111,
              "#46039f"
             ],
             [
              0.2222222222222222,
              "#7201a8"
             ],
             [
              0.3333333333333333,
              "#9c179e"
             ],
             [
              0.4444444444444444,
              "#bd3786"
             ],
             [
              0.5555555555555556,
              "#d8576b"
             ],
             [
              0.6666666666666666,
              "#ed7953"
             ],
             [
              0.7777777777777778,
              "#fb9f3a"
             ],
             [
              0.8888888888888888,
              "#fdca26"
             ],
             [
              1.0,
              "#f0f921"
             ]
            ],
            "type": "surface"
           }
          ],
          "table": [
           {
            "cells": {
             "fill": {
              "color": "#EBF0F8"
             },
             "line": {
              "color": "white"
             }
            },
            "header": {
             "fill": {
              "color": "#C8D4E3"
             },
             "line": {
              "color": "white"
             }
            },
            "type": "table"
           }
          ]
         },
         "layout": {
          "annotationdefaults": {
           "arrowcolor": "#2a3f5f",
           "arrowhead": 0,
           "arrowwidth": 1
          },
          "autotypenumbers": "strict",
          "coloraxis": {
           "colorbar": {
            "outlinewidth": 0,
            "ticks": ""
           }
          },
          "colorscale": {
           "diverging": [
            [
             0,
             "#8e0152"
            ],
            [
             0.1,
             "#c51b7d"
            ],
            [
             0.2,
             "#de77ae"
            ],
            [
             0.3,
             "#f1b6da"
            ],
            [
             0.4,
             "#fde0ef"
            ],
            [
             0.5,
             "#f7f7f7"
            ],
            [
             0.6,
             "#e6f5d0"
            ],
            [
             0.7,
             "#b8e186"
            ],
            [
             0.8,
             "#7fbc41"
            ],
            [
             0.9,
             "#4d9221"
            ],
            [
             1,
             "#276419"
            ]
           ],
           "sequential": [
            [
             0.0,
             "#0d0887"
            ],
            [
             0.1111111111111111,
             "#46039f"
            ],
            [
             0.2222222222222222,
             "#7201a8"
            ],
            [
             0.3333333333333333,
             "#9c179e"
            ],
            [
             0.4444444444444444,
             "#bd3786"
            ],
            [
             0.5555555555555556,
             "#d8576b"
            ],
            [
             0.6666666666666666,
             "#ed7953"
            ],
            [
             0.7777777777777778,
             "#fb9f3a"
            ],
            [
             0.8888888888888888,
             "#fdca26"
            ],
            [
             1.0,
             "#f0f921"
            ]
           ],
           "sequentialminus": [
            [
             0.0,
             "#0d0887"
            ],
            [
             0.1111111111111111,
             "#46039f"
            ],
            [
             0.2222222222222222,
             "#7201a8"
            ],
            [
             0.3333333333333333,
             "#9c179e"
            ],
            [
             0.4444444444444444,
             "#bd3786"
            ],
            [
             0.5555555555555556,
             "#d8576b"
            ],
            [
             0.6666666666666666,
             "#ed7953"
            ],
            [
             0.7777777777777778,
             "#fb9f3a"
            ],
            [
             0.8888888888888888,
             "#fdca26"
            ],
            [
             1.0,
             "#f0f921"
            ]
           ]
          },
          "colorway": [
           "#636efa",
           "#EF553B",
           "#00cc96",
           "#ab63fa",
           "#FFA15A",
           "#19d3f3",
           "#FF6692",
           "#B6E880",
           "#FF97FF",
           "#FECB52"
          ],
          "font": {
           "color": "#2a3f5f"
          },
          "geo": {
           "bgcolor": "white",
           "lakecolor": "white",
           "landcolor": "#E5ECF6",
           "showlakes": true,
           "showland": true,
           "subunitcolor": "white"
          },
          "hoverlabel": {
           "align": "left"
          },
          "hovermode": "closest",
          "mapbox": {
           "style": "light"
          },
          "paper_bgcolor": "white",
          "plot_bgcolor": "#E5ECF6",
          "polar": {
           "angularaxis": {
            "gridcolor": "white",
            "linecolor": "white",
            "ticks": ""
           },
           "bgcolor": "#E5ECF6",
           "radialaxis": {
            "gridcolor": "white",
            "linecolor": "white",
            "ticks": ""
           }
          },
          "scene": {
           "xaxis": {
            "backgroundcolor": "#E5ECF6",
            "gridcolor": "white",
            "gridwidth": 2,
            "linecolor": "white",
            "showbackground": true,
            "ticks": "",
            "zerolinecolor": "white"
           },
           "yaxis": {
            "backgroundcolor": "#E5ECF6",
            "gridcolor": "white",
            "gridwidth": 2,
            "linecolor": "white",
            "showbackground": true,
            "ticks": "",
            "zerolinecolor": "white"
           },
           "zaxis": {
            "backgroundcolor": "#E5ECF6",
            "gridcolor": "white",
            "gridwidth": 2,
            "linecolor": "white",
            "showbackground": true,
            "ticks": "",
            "zerolinecolor": "white"
           }
          },
          "shapedefaults": {
           "line": {
            "color": "#2a3f5f"
           }
          },
          "ternary": {
           "aaxis": {
            "gridcolor": "white",
            "linecolor": "white",
            "ticks": ""
           },
           "baxis": {
            "gridcolor": "white",
            "linecolor": "white",
            "ticks": ""
           },
           "bgcolor": "#E5ECF6",
           "caxis": {
            "gridcolor": "white",
            "linecolor": "white",
            "ticks": ""
           }
          },
          "title": {
           "x": 0.05
          },
          "xaxis": {
           "automargin": true,
           "gridcolor": "white",
           "linecolor": "white",
           "ticks": "",
           "title": {
            "standoff": 15
           },
           "zerolinecolor": "white",
           "zerolinewidth": 2
          },
          "yaxis": {
           "automargin": true,
           "gridcolor": "white",
           "linecolor": "white",
           "ticks": "",
           "title": {
            "standoff": 15
           },
           "zerolinecolor": "white",
           "zerolinewidth": 2
          }
         }
        },
        "xaxis": {
         "anchor": "y",
         "domain": [
          0.0,
          1.0
         ],
         "title": {
          "text": "0"
         }
        },
        "yaxis": {
         "anchor": "x",
         "domain": [
          0.0,
          1.0
         ],
         "title": {
          "text": "1"
         }
        },
        "coloraxis": {
         "colorbar": {
          "title": {
           "text": "color"
          }
         },
         "colorscale": [
          [
           0.0,
           "#0d0887"
          ],
          [
           0.1111111111111111,
           "#46039f"
          ],
          [
           0.2222222222222222,
           "#7201a8"
          ],
          [
           0.3333333333333333,
           "#9c179e"
          ],
          [
           0.4444444444444444,
           "#bd3786"
          ],
          [
           0.5555555555555556,
           "#d8576b"
          ],
          [
           0.6666666666666666,
           "#ed7953"
          ],
          [
           0.7777777777777778,
           "#fb9f3a"
          ],
          [
           0.8888888888888888,
           "#fdca26"
          ],
          [
           1.0,
           "#f0f921"
          ]
         ]
        },
        "legend": {
         "tracegroupgap": 0
        },
        "margin": {
         "t": 60
        }
       },
       "config": {
        "plotlyServerURL": "https://plot.ly"
       }
      },
      "text/html": "<div>                            <div id=\"9bc66116-d215-4cd5-b6fb-4cb2b5c9ad67\" class=\"plotly-graph-div\" style=\"height:525px; width:100%;\"></div>            <script type=\"text/javascript\">                require([\"plotly\"], function(Plotly) {                    window.PLOTLYENV=window.PLOTLYENV || {};                                    if (document.getElementById(\"9bc66116-d215-4cd5-b6fb-4cb2b5c9ad67\")) {                    Plotly.newPlot(                        \"9bc66116-d215-4cd5-b6fb-4cb2b5c9ad67\",                        [{\"hovertemplate\":\"0=%{x}<br>1=%{y}<br>color=%{marker.color}<extra></extra>\",\"legendgroup\":\"\",\"marker\":{\"color\":[0,1,0,0,0,1,1,0,0,0,0,1,0,1,1,1,0,1,0,0,1,0,1,1,0,1,1,1,0,0,1,1,0,1,0,1,0,1,1,0,1,0,0,0,0,1,0,0,1,0,1,1,1,1,0,1,1,1,0,1,1,0,0,1,0,1,0,1,0,0,0,0,1,0,1,0,1,1,0,1,0,0,1,1,0,0,1,0,0,0,0,0,1,1,0,0,1,0,0,1,0,1,1,0,1,0,0,1,0,0,0,1,0,0,0,0,1,1,1,1,1,0,1,0,1,1,0,0,1,0,0,0,1,0,0,1,0,0,0,1,0,0,1,1,0,0,1,0,0,1,1,1,0,1,1,0,0,0,1,1,1,0,0,1,1,0,0,1,1,1,0,0,0,0,1,0,1,1,1,1,0,1,0,1,1,0,1,1,0,1,0,0,0,1,0,1,0,0,0,0,1,1,1,0,0,0,0,1,1,0,0,1,1,0,0,0,1,0,1,0,1,1,0,1,0,1,1,1,0,0,1,1,1,1,1,1,1,1,1,0,0,1,0,1,1,0,0,1,1,0,1,0,0,1,1,0,1,1,1,1,0,1,1,0,1,0,1,1,1,1,0,0,1,0,1,0,1,0,0,1,1,1,1,0,0,0,1,1,0,1,1,0,1,0,0,0,1,1,0,0,0,1,1,1,0,0,1,1,0,1,1,0,0,0,1,1,0,1,1,0,1,1,1,1,0,0,1,0,0,1,0,0,1,1,0,0,0,1,0,0,1,1,1,1,0,1,1,1,0,0,0,0,0,0,1,0,0,1,1,0,1,1,1,1,1,0,1,0,0,1,1,0,1,0,1,1,1,1,1,1,0,0,0,0,0,0,1,0,0,1,0,0,0,1,0,0,1,0,0,1],\"coloraxis\":\"coloraxis\",\"symbol\":\"circle\"},\"mode\":\"markers\",\"name\":\"\",\"orientation\":\"v\",\"showlegend\":false,\"x\":[22.219642639160156,-1.520627498626709,-0.9291790127754211,-7.8124494552612305,14.648590087890625,-7.556350231170654,5.773947238922119,-8.426653861999512,18.57994842529297,-4.761493682861328,-0.8363440036773682,8.603523254394531,-6.01712703704834,-12.952024459838867,-13.913286209106445,3.429292917251587,7.675832748413086,-7.04208517074585,0.058171119540929794,-2.931084156036377,6.012284278869629,-0.6324898600578308,8.937708854675293,-4.757903099060059,-15.358163833618164,16.106895446777344,18.027807235717773,4.150757312774658,-4.06168794631958,-3.453230142593384,-4.510044574737549,-6.301792144775391,-16.78451919555664,-4.369818687438965,22.965579986572266,-0.4451057016849518,-8.555787086486816,6.0982136726379395,-13.078011512756348,-17.893089294433594,-1.3509725332260132,-17.71129035949707,-12.92206859588623,22.095645904541016,-7.548639297485352,-18.525516510009766,10.997389793395996,-22.976696014404297,2.2851884365081787,-10.16734790802002,-3.5364444255828857,10.525747299194336,1.7674895524978638,5.693447589874268,5.14236307144165,19.478878021240234,15.892290115356445,2.7555503845214844,-7.445189476013184,-2.4356460571289062,10.638519287109375,7.013152599334717,8.998461723327637,8.356579780578613,0.21706049144268036,1.8446542024612427,-7.478915214538574,-14.84511947631836,-13.245874404907227,-5.816481113433838,-3.0595741271972656,-6.998819828033447,10.975763320922852,5.008086681365967,2.5965285301208496,14.747601509094238,-4.63286018371582,-7.559514999389648,-11.586821556091309,9.73914909362793,8.338749885559082,2.7584636211395264,-3.7414238452911377,-25.704578399658203,10.018101692199707,-0.695453941822052,13.07600212097168,16.9534912109375,-14.537527084350586,6.187292098999023,22.263811111450195,6.050137996673584,9.377480506896973,20.24785041809082,-5.631645202636719,10.807317733764648,-19.220355987548828,2.123018741607666,-14.830248832702637,20.556318283081055,-5.545924186706543,-1.356173038482666,12.723617553710938,13.417652130126953,-19.66879653930664,23.766637802124023,8.525765419006348,8.373479843139648,-1.812209129333496,4.81541109085083,7.634180068969727,4.5777106285095215,-3.373976230621338,-7.549147605895996,-21.290231704711914,-10.502363204956055,13.014769554138184,-17.649097442626953,7.938172340393066,-21.73764991760254,25.045133590698242,3.6478917598724365,6.229818820953369,-6.760500431060791,-26.601598739624023,-7.633402347564697,6.786657333374023,-14.486651420593262,17.499723434448242,-11.936253547668457,11.80529499053955,20.212215423583984,17.91324806213379,-5.895853519439697,-17.11000633239746,9.20794677734375,-14.564349174499512,-18.012344360351562,18.737918853759766,6.468363285064697,-11.299213409423828,-11.336444854736328,6.171704292297363,-2.6548163890838623,-19.425336837768555,-3.995361089706421,14.042298316955566,-7.3872904777526855,4.777563095092773,5.279047012329102,-16.7242488861084,8.546480178833008,-4.986085414886475,3.009089946746826,19.814590454101562,-1.9828927516937256,-8.978558540344238,12.439878463745117,13.38453483581543,2.2265708446502686,6.260937213897705,7.134405136108398,-2.6243906021118164,12.825937271118164,2.0853331089019775,-11.95025634765625,-10.796380043029785,2.460317850112915,-18.938222885131836,-4.6841816902160645,-14.168060302734375,-2.878999710083008,-2.6091341972351074,21.007505416870117,-3.0454957485198975,-18.938493728637695,20.42298126220703,23.208446502685547,-8.477932929992676,24.563642501831055,-24.52712631225586,18.758861541748047,1.0153329372406006,-4.795111656188965,-9.133452415466309,-2.3344576358795166,-14.236363410949707,-5.6287994384765625,-13.233853340148926,15.138208389282227,16.897340774536133,-2.990990161895752,-18.4985408782959,3.838886260986328,19.913644790649414,23.211814880371094,-1.4502403736114502,6.745234966278076,2.272803783416748,19.38923454284668,6.670293807983398,19.810760498046875,-3.746295928955078,-10.552016258239746,1.382788062095642,12.623502731323242,-5.036776542663574,-10.561192512512207,18.02729034423828,-9.767354965209961,-8.315912246704102,16.216472625732422,2.6971662044525146,-8.78327751159668,18.504539489746094,-6.201533317565918,-21.408597946166992,17.860919952392578,0.019397443160414696,-1.9168559312820435,5.08148717880249,5.422338008880615,-16.953235626220703,15.020157814025879,-11.850245475769043,-7.660150051116943,-16.37442970275879,8.641653060913086,26.059879302978516,-11.979599952697754,1.9981403350830078,0.060831937938928604,6.6343674659729,-11.248547554016113,-15.24770736694336,17.759340286254883,3.1495277881622314,18.159961700439453,11.71453857421875,-11.059542655944824,-9.47890567779541,17.99298095703125,2.0180890560150146,2.115152597427368,3.4824891090393066,-18.573301315307617,-2.1855788230895996,4.883073329925537,-22.343576431274414,11.889509201049805,4.15712833404541,9.860587120056152,9.897550582885742,10.507131576538086,-15.312891006469727,0.8745869994163513,-10.856740951538086,13.45362663269043,16.9849910736084,-1.5175480842590332,10.015939712524414,1.806361436843872,-26.007150650024414,-0.2628300189971924,14.39661693572998,14.651476860046387,4.293879508972168,-22.912887573242188,0.3642575740814209,12.39678955078125,-14.534722328186035,10.888586044311523,-6.208256721496582,7.342799186706543,15.136055946350098,14.354358673095703,-1.7215293645858765,4.362888813018799,-0.5109112858772278,0.28432878851890564,5.499186992645264,-0.6727170944213867,3.929685592651367,6.6091485023498535,-4.38542366027832,-4.440017223358154,6.781626224517822,0.186218723654747,7.743511199951172,-8.94848346710205,12.146221160888672,-23.71955680847168,8.74028491973877,17.50117301940918,-14.076797485351562,-19.0898494720459,13.0447998046875,-11.903520584106445,-17.44171714782715,-18.852022171020508,-2.2077014446258545,-2.6663026809692383,-13.941235542297363,7.182709217071533,-18.516979217529297,-7.064547538757324,-12.24229907989502,14.800260543823242,7.794330596923828,9.19876480102539,-22.49687957763672,23.310922622680664,-14.380152702331543,12.791196823120117,-13.346321105957031,-6.951572418212891,-7.111536502838135,4.6004557609558105,19.44968605041504,3.251176118850708,16.249011993408203,-8.261220932006836,-3.9816172122955322,-0.33529603481292725,11.965456008911133,8.298093795776367,8.622991561889648,-11.162452697753906,17.998197555541992,-16.249889373779297,-7.767714500427246,15.923189163208008,12.32500171661377,-8.298626899719238,-15.400094032287598,0.8677170872688293,8.052120208740234,-15.36841869354248,14.473784446716309,-0.2568056583404541,9.421716690063477,-23.08442497253418,9.893763542175293,13.250852584838867,-20.704885482788086,7.787756443023682,6.572024345397949,-15.930032730102539,-13.588305473327637,21.12629508972168,11.990640640258789,-1.95419180393219,-17.037479400634766,-14.572633743286133,1.4633904695510864,10.737326622009277,7.160992622375488,-18.261703491210938,6.791543483734131,-8.927094459533691,15.837166786193848,-7.114138126373291,12.91033935546875,-15.970104217529297,6.795589923858643,-5.513859272003174,16.25642967224121,-2.950960636138916,21.70258903503418,2.174252986907959,-11.30213451385498,1.0366063117980957,-6.834278106689453,-9.520235061645508,13.245766639709473,15.795310020446777,10.730321884155273,-23.660200119018555,12.809428215026855,-15.474202156066895,-2.4125771522521973,-10.281733512878418,-4.562363624572754,10.859716415405273,19.744312286376953,-8.032337188720703,3.006117820739746,-3.004514694213867,2.089759588241577,1.5449671745300293,6.549803733825684,-1.1381282806396484,-10.004833221435547,4.308045864105225,3.1722617149353027,-4.833697319030762,3.544205665588379,-4.510003566741943,-0.33237865567207336,-20.400903701782227],\"xaxis\":\"x\",\"y\":[9.184120178222656,-20.709453582763672,-17.101518630981445,-6.526732444763184,12.891288757324219,-10.964394569396973,-7.738415718078613,-14.956819534301758,-18.04042625427246,-8.289896965026855,-11.199590682983398,0.9978771209716797,15.339897155761719,18.186809539794922,12.99144458770752,-13.201817512512207,-1.8183138370513916,2.715082883834839,-3.222466230392456,-14.043903350830078,-7.259415149688721,5.92138671875,-3.7071075439453125,4.450240135192871,14.991229057312012,4.274742126464844,3.636929750442505,2.3030893802642822,11.297234535217285,-5.375151634216309,3.544107675552368,13.87279987335205,-12.41366958618164,-2.359208583831787,5.398472309112549,-17.12408447265625,2.9406442642211914,6.349793434143066,-8.301651954650879,4.8819475173950195,9.596846580505371,13.075419425964355,-4.054310321807861,6.030670166015625,-4.716121673583984,13.68078327178955,6.402249336242676,-3.034381151199341,10.649564743041992,11.752378463745117,14.168342590332031,4.129101276397705,1.6643290519714355,-10.300713539123535,-20.89411163330078,3.244971990585327,-8.394515037536621,16.17839813232422,-21.671327590942383,8.300909996032715,10.242378234863281,0.9939262270927429,-7.0410614013671875,10.346959114074707,4.027339935302734,-23.166791915893555,16.093198776245117,13.097503662109375,-11.327983856201172,-14.434195518493652,18.901180267333984,15.84659481048584,5.615034103393555,-4.562276840209961,23.280797958374023,1.154268741607666,-3.3663203716278076,20.490644454956055,-13.016194343566895,-17.991180419921875,-12.212370872497559,1.4402867555618286,-10.608936309814453,2.112623929977417,-20.355575561523438,13.71971321105957,-16.215246200561523,10.630218505859375,16.872594833374023,-16.85948371887207,-10.527742385864258,-1.7630531787872314,-16.466028213500977,0.39881208539009094,-6.113536834716797,10.878052711486816,18.083213806152344,16.712743759155273,-0.1848391592502594,-7.092548847198486,-8.32495403289795,-21.6429500579834,1.6310354471206665,-14.64033317565918,-0.27235159277915955,-5.161286354064941,6.400808811187744,16.70781135559082,14.310885429382324,9.267410278320312,11.012292861938477,-19.59532928466797,0.4761786460876465,-11.88676929473877,10.964546203613281,13.149264335632324,16.25542640686035,-10.949973106384277,19.04865264892578,11.099676132202148,-1.842340350151062,-18.5712890625,4.212863445281982,-5.413379192352295,0.24549543857574463,21.737882614135742,1.1160794496536255,7.177600860595703,-11.575414657592773,-11.941398620605469,-10.577239990234375,10.81075382232666,4.828634738922119,8.97647762298584,-9.761552810668945,-10.641122817993164,9.896421432495117,4.886230945587158,-14.199567794799805,11.22769832611084,3.435751438140869,-14.502321243286133,-16.10983657836914,10.241957664489746,19.29741668701172,-17.08116340637207,1.0732656717300415,19.6147518157959,-13.773285865783691,0.9085317254066467,-4.263394355773926,9.368300437927246,9.118756294250488,5.092925071716309,-2.623821496963501,23.78839111328125,7.499074935913086,-4.005831241607666,-3.450840473175049,-7.99090051651001,19.254276275634766,15.62004280090332,-3.7259621620178223,-7.741026401519775,10.719575881958008,-0.2159513384103775,-5.980130672454834,7.852684497833252,10.54088306427002,-1.8601059913635254,1.458020806312561,18.144376754760742,24.029836654663086,11.939266204833984,-14.455930709838867,0.4134484827518463,8.06626033782959,5.144586563110352,1.8941830396652222,-2.4074647426605225,3.663205862045288,2.4668421745300293,-7.309874534606934,24.24439239501953,-8.908092498779297,-12.10872745513916,20.267635345458984,24.008148193359375,4.3309807777404785,7.335058212280273,17.464895248413086,17.285987854003906,-6.467429161071777,23.418642044067383,-4.273537635803223,-9.233734130859375,-6.357011795043945,7.15970516204834,-13.455763816833496,-8.81461238861084,-11.287290573120117,3.2500967979431152,6.953763484954834,8.076583862304688,22.613630294799805,-7.8170485496521,6.205023288726807,-17.615171432495117,0.3154379427433014,-2.04416561126709,10.708645820617676,-0.6247790455818176,5.644721508026123,-0.4001709818840027,-13.65812873840332,-19.08332061767578,6.70198392868042,-1.5340584516525269,10.820817947387695,-6.639131546020508,18.98402976989746,11.62905216217041,13.718292236328125,-2.6204419136047363,14.988377571105957,0.5955773591995239,6.333717346191406,-9.140926361083984,-1.0760221481323242,5.840232849121094,-15.45075511932373,-10.72763729095459,-3.608503580093384,8.662457466125488,4.451014518737793,16.748933792114258,-5.864681720733643,-18.676103591918945,-5.015427589416504,-3.7118000984191895,3.563366174697876,-18.922985076904297,-18.35715103149414,-15.084883689880371,-2.5804226398468018,-6.3003950119018555,-9.394207954406738,-0.17558443546295166,3.94091534614563,-19.623891830444336,1.8687384128570557,6.930981636047363,-7.701598644256592,-0.6800965070724487,1.8515596389770508,1.2422101497650146,-2.3048312664031982,6.333642959594727,-10.755182266235352,4.540015697479248,3.1762731075286865,-5.241386413574219,1.5082862377166748,13.707469940185547,-3.692032814025879,-9.8580904006958,-18.764095306396484,4.832425594329834,-6.0374674797058105,6.715514659881592,6.96380090713501,7.014824867248535,0.2967935800552368,15.642675399780273,-4.764486789703369,9.341018676757812,-9.239669799804688,-2.793961524963379,4.62416934967041,23.24504852294922,-6.369108200073242,-13.385576248168945,16.213010787963867,24.835922241210938,-9.506643295288086,3.301452398300171,-8.333585739135742,-0.5158452987670898,-13.573139190673828,2.297245740890503,-13.149659156799316,6.129970073699951,17.867280960083008,9.710679054260254,19.70843505859375,-3.1367785930633545,19.16155433654785,3.96415114402771,-4.493520259857178,10.109712600708008,11.395217895507812,-11.30282211303711,-8.159817695617676,12.670969009399414,0.8755810260772705,9.567354202270508,-8.446680068969727,2.038492202758789,4.444084167480469,-4.147071838378906,5.214950084686279,-5.186087131500244,-0.9603338241577148,12.717443466186523,-4.176279544830322,-8.590761184692383,-17.95241355895996,-8.443276405334473,8.863028526306152,13.729201316833496,1.0726921558380127,-22.384517669677734,-7.088501453399658,9.100863456726074,1.8057796955108643,-11.302891731262207,-5.9960713386535645,13.854386329650879,-1.1031461954116821,-8.554203033447266,19.41930389404297,-5.063321590423584,-1.6481070518493652,-10.354796409606934,4.546833038330078,-10.196280479431152,-3.071035861968994,-16.59722328186035,8.6478853225708,18.428028106689453,22.849700927734375,-3.3071651458740234,-10.606480598449707,-0.06859470158815384,0.8833982944488525,-7.655340194702148,11.114545822143555,-11.814807891845703,18.179668426513672,-6.8647003173828125,-19.65614128112793,1.3950445652008057,11.955848693847656,9.862038612365723,-0.7344591021537781,-19.35610008239746,-4.953089237213135,-1.289196491241455,4.1519060134887695,-2.5566322803497314,4.187733173370361,-21.222736358642578,15.826136589050293,-16.990745544433594,-3.110966682434082,-13.724957466125488,18.054241180419922,-2.268505096435547,-6.430962085723877,6.824076175689697,-8.555474281311035,-7.988403797149658,-3.39874529838562,8.835843086242676,18.35457992553711,-9.185575485229492,-0.6569859385490417,4.703641414642334,-14.055305480957031,-0.48740825057029724,1.0639568567276,1.782854437828064,-24.443111419677734,13.808902740478516,0.36865371465682983,4.2683210372924805,-10.668835639953613,10.020854949951172,-5.08031702041626,21.035228729248047,24.739290237426758,-1.0047937631607056,-5.605693340301514,9.026411056518555,14.567691802978516,-24.13603401184082,-12.57975959777832,-11.810310363769531,-3.1548514366149902,14.840959548950195],\"yaxis\":\"y\",\"type\":\"scatter\"}],                        {\"template\":{\"data\":{\"bar\":[{\"error_x\":{\"color\":\"#2a3f5f\"},\"error_y\":{\"color\":\"#2a3f5f\"},\"marker\":{\"line\":{\"color\":\"#E5ECF6\",\"width\":0.5},\"pattern\":{\"fillmode\":\"overlay\",\"size\":10,\"solidity\":0.2}},\"type\":\"bar\"}],\"barpolar\":[{\"marker\":{\"line\":{\"color\":\"#E5ECF6\",\"width\":0.5},\"pattern\":{\"fillmode\":\"overlay\",\"size\":10,\"solidity\":0.2}},\"type\":\"barpolar\"}],\"carpet\":[{\"aaxis\":{\"endlinecolor\":\"#2a3f5f\",\"gridcolor\":\"white\",\"linecolor\":\"white\",\"minorgridcolor\":\"white\",\"startlinecolor\":\"#2a3f5f\"},\"baxis\":{\"endlinecolor\":\"#2a3f5f\",\"gridcolor\":\"white\",\"linecolor\":\"white\",\"minorgridcolor\":\"white\",\"startlinecolor\":\"#2a3f5f\"},\"type\":\"carpet\"}],\"choropleth\":[{\"colorbar\":{\"outlinewidth\":0,\"ticks\":\"\"},\"type\":\"choropleth\"}],\"contour\":[{\"colorbar\":{\"outlinewidth\":0,\"ticks\":\"\"},\"colorscale\":[[0.0,\"#0d0887\"],[0.1111111111111111,\"#46039f\"],[0.2222222222222222,\"#7201a8\"],[0.3333333333333333,\"#9c179e\"],[0.4444444444444444,\"#bd3786\"],[0.5555555555555556,\"#d8576b\"],[0.6666666666666666,\"#ed7953\"],[0.7777777777777778,\"#fb9f3a\"],[0.8888888888888888,\"#fdca26\"],[1.0,\"#f0f921\"]],\"type\":\"contour\"}],\"contourcarpet\":[{\"colorbar\":{\"outlinewidth\":0,\"ticks\":\"\"},\"type\":\"contourcarpet\"}],\"heatmap\":[{\"colorbar\":{\"outlinewidth\":0,\"ticks\":\"\"},\"colorscale\":[[0.0,\"#0d0887\"],[0.1111111111111111,\"#46039f\"],[0.2222222222222222,\"#7201a8\"],[0.3333333333333333,\"#9c179e\"],[0.4444444444444444,\"#bd3786\"],[0.5555555555555556,\"#d8576b\"],[0.6666666666666666,\"#ed7953\"],[0.7777777777777778,\"#fb9f3a\"],[0.8888888888888888,\"#fdca26\"],[1.0,\"#f0f921\"]],\"type\":\"heatmap\"}],\"heatmapgl\":[{\"colorbar\":{\"outlinewidth\":0,\"ticks\":\"\"},\"colorscale\":[[0.0,\"#0d0887\"],[0.1111111111111111,\"#46039f\"],[0.2222222222222222,\"#7201a8\"],[0.3333333333333333,\"#9c179e\"],[0.4444444444444444,\"#bd3786\"],[0.5555555555555556,\"#d8576b\"],[0.6666666666666666,\"#ed7953\"],[0.7777777777777778,\"#fb9f3a\"],[0.8888888888888888,\"#fdca26\"],[1.0,\"#f0f921\"]],\"type\":\"heatmapgl\"}],\"histogram\":[{\"marker\":{\"pattern\":{\"fillmode\":\"overlay\",\"size\":10,\"solidity\":0.2}},\"type\":\"histogram\"}],\"histogram2d\":[{\"colorbar\":{\"outlinewidth\":0,\"ticks\":\"\"},\"colorscale\":[[0.0,\"#0d0887\"],[0.1111111111111111,\"#46039f\"],[0.2222222222222222,\"#7201a8\"],[0.3333333333333333,\"#9c179e\"],[0.4444444444444444,\"#bd3786\"],[0.5555555555555556,\"#d8576b\"],[0.6666666666666666,\"#ed7953\"],[0.7777777777777778,\"#fb9f3a\"],[0.8888888888888888,\"#fdca26\"],[1.0,\"#f0f921\"]],\"type\":\"histogram2d\"}],\"histogram2dcontour\":[{\"colorbar\":{\"outlinewidth\":0,\"ticks\":\"\"},\"colorscale\":[[0.0,\"#0d0887\"],[0.1111111111111111,\"#46039f\"],[0.2222222222222222,\"#7201a8\"],[0.3333333333333333,\"#9c179e\"],[0.4444444444444444,\"#bd3786\"],[0.5555555555555556,\"#d8576b\"],[0.6666666666666666,\"#ed7953\"],[0.7777777777777778,\"#fb9f3a\"],[0.8888888888888888,\"#fdca26\"],[1.0,\"#f0f921\"]],\"type\":\"histogram2dcontour\"}],\"mesh3d\":[{\"colorbar\":{\"outlinewidth\":0,\"ticks\":\"\"},\"type\":\"mesh3d\"}],\"parcoords\":[{\"line\":{\"colorbar\":{\"outlinewidth\":0,\"ticks\":\"\"}},\"type\":\"parcoords\"}],\"pie\":[{\"automargin\":true,\"type\":\"pie\"}],\"scatter\":[{\"marker\":{\"colorbar\":{\"outlinewidth\":0,\"ticks\":\"\"}},\"type\":\"scatter\"}],\"scatter3d\":[{\"line\":{\"colorbar\":{\"outlinewidth\":0,\"ticks\":\"\"}},\"marker\":{\"colorbar\":{\"outlinewidth\":0,\"ticks\":\"\"}},\"type\":\"scatter3d\"}],\"scattercarpet\":[{\"marker\":{\"colorbar\":{\"outlinewidth\":0,\"ticks\":\"\"}},\"type\":\"scattercarpet\"}],\"scattergeo\":[{\"marker\":{\"colorbar\":{\"outlinewidth\":0,\"ticks\":\"\"}},\"type\":\"scattergeo\"}],\"scattergl\":[{\"marker\":{\"colorbar\":{\"outlinewidth\":0,\"ticks\":\"\"}},\"type\":\"scattergl\"}],\"scattermapbox\":[{\"marker\":{\"colorbar\":{\"outlinewidth\":0,\"ticks\":\"\"}},\"type\":\"scattermapbox\"}],\"scatterpolar\":[{\"marker\":{\"colorbar\":{\"outlinewidth\":0,\"ticks\":\"\"}},\"type\":\"scatterpolar\"}],\"scatterpolargl\":[{\"marker\":{\"colorbar\":{\"outlinewidth\":0,\"ticks\":\"\"}},\"type\":\"scatterpolargl\"}],\"scatterternary\":[{\"marker\":{\"colorbar\":{\"outlinewidth\":0,\"ticks\":\"\"}},\"type\":\"scatterternary\"}],\"surface\":[{\"colorbar\":{\"outlinewidth\":0,\"ticks\":\"\"},\"colorscale\":[[0.0,\"#0d0887\"],[0.1111111111111111,\"#46039f\"],[0.2222222222222222,\"#7201a8\"],[0.3333333333333333,\"#9c179e\"],[0.4444444444444444,\"#bd3786\"],[0.5555555555555556,\"#d8576b\"],[0.6666666666666666,\"#ed7953\"],[0.7777777777777778,\"#fb9f3a\"],[0.8888888888888888,\"#fdca26\"],[1.0,\"#f0f921\"]],\"type\":\"surface\"}],\"table\":[{\"cells\":{\"fill\":{\"color\":\"#EBF0F8\"},\"line\":{\"color\":\"white\"}},\"header\":{\"fill\":{\"color\":\"#C8D4E3\"},\"line\":{\"color\":\"white\"}},\"type\":\"table\"}]},\"layout\":{\"annotationdefaults\":{\"arrowcolor\":\"#2a3f5f\",\"arrowhead\":0,\"arrowwidth\":1},\"autotypenumbers\":\"strict\",\"coloraxis\":{\"colorbar\":{\"outlinewidth\":0,\"ticks\":\"\"}},\"colorscale\":{\"diverging\":[[0,\"#8e0152\"],[0.1,\"#c51b7d\"],[0.2,\"#de77ae\"],[0.3,\"#f1b6da\"],[0.4,\"#fde0ef\"],[0.5,\"#f7f7f7\"],[0.6,\"#e6f5d0\"],[0.7,\"#b8e186\"],[0.8,\"#7fbc41\"],[0.9,\"#4d9221\"],[1,\"#276419\"]],\"sequential\":[[0.0,\"#0d0887\"],[0.1111111111111111,\"#46039f\"],[0.2222222222222222,\"#7201a8\"],[0.3333333333333333,\"#9c179e\"],[0.4444444444444444,\"#bd3786\"],[0.5555555555555556,\"#d8576b\"],[0.6666666666666666,\"#ed7953\"],[0.7777777777777778,\"#fb9f3a\"],[0.8888888888888888,\"#fdca26\"],[1.0,\"#f0f921\"]],\"sequentialminus\":[[0.0,\"#0d0887\"],[0.1111111111111111,\"#46039f\"],[0.2222222222222222,\"#7201a8\"],[0.3333333333333333,\"#9c179e\"],[0.4444444444444444,\"#bd3786\"],[0.5555555555555556,\"#d8576b\"],[0.6666666666666666,\"#ed7953\"],[0.7777777777777778,\"#fb9f3a\"],[0.8888888888888888,\"#fdca26\"],[1.0,\"#f0f921\"]]},\"colorway\":[\"#636efa\",\"#EF553B\",\"#00cc96\",\"#ab63fa\",\"#FFA15A\",\"#19d3f3\",\"#FF6692\",\"#B6E880\",\"#FF97FF\",\"#FECB52\"],\"font\":{\"color\":\"#2a3f5f\"},\"geo\":{\"bgcolor\":\"white\",\"lakecolor\":\"white\",\"landcolor\":\"#E5ECF6\",\"showlakes\":true,\"showland\":true,\"subunitcolor\":\"white\"},\"hoverlabel\":{\"align\":\"left\"},\"hovermode\":\"closest\",\"mapbox\":{\"style\":\"light\"},\"paper_bgcolor\":\"white\",\"plot_bgcolor\":\"#E5ECF6\",\"polar\":{\"angularaxis\":{\"gridcolor\":\"white\",\"linecolor\":\"white\",\"ticks\":\"\"},\"bgcolor\":\"#E5ECF6\",\"radialaxis\":{\"gridcolor\":\"white\",\"linecolor\":\"white\",\"ticks\":\"\"}},\"scene\":{\"xaxis\":{\"backgroundcolor\":\"#E5ECF6\",\"gridcolor\":\"white\",\"gridwidth\":2,\"linecolor\":\"white\",\"showbackground\":true,\"ticks\":\"\",\"zerolinecolor\":\"white\"},\"yaxis\":{\"backgroundcolor\":\"#E5ECF6\",\"gridcolor\":\"white\",\"gridwidth\":2,\"linecolor\":\"white\",\"showbackground\":true,\"ticks\":\"\",\"zerolinecolor\":\"white\"},\"zaxis\":{\"backgroundcolor\":\"#E5ECF6\",\"gridcolor\":\"white\",\"gridwidth\":2,\"linecolor\":\"white\",\"showbackground\":true,\"ticks\":\"\",\"zerolinecolor\":\"white\"}},\"shapedefaults\":{\"line\":{\"color\":\"#2a3f5f\"}},\"ternary\":{\"aaxis\":{\"gridcolor\":\"white\",\"linecolor\":\"white\",\"ticks\":\"\"},\"baxis\":{\"gridcolor\":\"white\",\"linecolor\":\"white\",\"ticks\":\"\"},\"bgcolor\":\"#E5ECF6\",\"caxis\":{\"gridcolor\":\"white\",\"linecolor\":\"white\",\"ticks\":\"\"}},\"title\":{\"x\":0.05},\"xaxis\":{\"automargin\":true,\"gridcolor\":\"white\",\"linecolor\":\"white\",\"ticks\":\"\",\"title\":{\"standoff\":15},\"zerolinecolor\":\"white\",\"zerolinewidth\":2},\"yaxis\":{\"automargin\":true,\"gridcolor\":\"white\",\"linecolor\":\"white\",\"ticks\":\"\",\"title\":{\"standoff\":15},\"zerolinecolor\":\"white\",\"zerolinewidth\":2}}},\"xaxis\":{\"anchor\":\"y\",\"domain\":[0.0,1.0],\"title\":{\"text\":\"0\"}},\"yaxis\":{\"anchor\":\"x\",\"domain\":[0.0,1.0],\"title\":{\"text\":\"1\"}},\"coloraxis\":{\"colorbar\":{\"title\":{\"text\":\"color\"}},\"colorscale\":[[0.0,\"#0d0887\"],[0.1111111111111111,\"#46039f\"],[0.2222222222222222,\"#7201a8\"],[0.3333333333333333,\"#9c179e\"],[0.4444444444444444,\"#bd3786\"],[0.5555555555555556,\"#d8576b\"],[0.6666666666666666,\"#ed7953\"],[0.7777777777777778,\"#fb9f3a\"],[0.8888888888888888,\"#fdca26\"],[1.0,\"#f0f921\"]]},\"legend\":{\"tracegroupgap\":0},\"margin\":{\"t\":60}},                        {\"responsive\": true}                    ).then(function(){\n                            \nvar gd = document.getElementById('9bc66116-d215-4cd5-b6fb-4cb2b5c9ad67');\nvar x = new MutationObserver(function (mutations, observer) {{\n        var display = window.getComputedStyle(gd).display;\n        if (!display || display === 'none') {{\n            console.log([gd, 'removed!']);\n            Plotly.purge(gd);\n            observer.disconnect();\n        }}\n}});\n\n// Listen for the removal of the full notebook cells\nvar notebookContainer = gd.closest('#notebook-container');\nif (notebookContainer) {{\n    x.observe(notebookContainer, {childList: true});\n}}\n\n// Listen for the clearing of the current output cell\nvar outputEl = gd.closest('.output');\nif (outputEl) {{\n    x.observe(outputEl, {childList: true});\n}}\n\n                        })                };                });            </script>        </div>"
     },
     "metadata": {},
     "output_type": "display_data"
    }
   ],
   "source": [
    "pca = PCA(n_components=2)\n",
    "components = pca.fit_transform(X)\n",
    "fig = px.scatter(components, x=0, y=1,color=Y)\n",
    "fig.show()\n",
    "\n",
    "\n",
    "test = TSNE(n_components=2, learning_rate='auto', init='random').fit_transform(X)\n",
    "fig = px.scatter(test, x=0, y=1,color=Y)\n",
    "fig.show()\n",
    "\n"
   ],
   "metadata": {
    "collapsed": false,
    "pycharm": {
     "name": "#%%\n"
    }
   }
  },
  {
   "cell_type": "code",
   "execution_count": 93,
   "outputs": [],
   "source": [],
   "metadata": {
    "collapsed": false,
    "pycharm": {
     "name": "#%%\n"
    }
   }
  }
 ],
 "metadata": {
  "kernelspec": {
   "display_name": "Python 3 (ipykernel)",
   "language": "python",
   "name": "python3"
  },
  "language_info": {
   "codemirror_mode": {
    "name": "ipython",
    "version": 3
   },
   "file_extension": ".py",
   "mimetype": "text/x-python",
   "name": "python",
   "nbconvert_exporter": "python",
   "pygments_lexer": "ipython3",
   "version": "3.9.9"
  },
  "colab": {
   "name": "FakeNewsClassifier.ipynb",
   "provenance": [],
   "collapsed_sections": [
    "rsFcG9hgVZTY"
   ]
  }
 },
 "nbformat": 4,
 "nbformat_minor": 5
}